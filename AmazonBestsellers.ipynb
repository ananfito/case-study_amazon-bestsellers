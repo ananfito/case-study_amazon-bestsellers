{
 "cells": [
  {
   "cell_type": "markdown",
   "metadata": {},
   "source": [
    "# Case Study: Trends from Amazon Bestsellers\n",
    "\n",
    "## Introduction\n",
    "The following is a case study investigating bestelling books on Amazon between the years 2009 and 2019. We will look at how authors/publishers can use the trends in this data to set long-term goals.\n",
    "\n",
    "## Contents\n",
    "\n",
    "- [Summary](#Summary)\n",
    "  - [Tools and Techniques](#Tools-And-Techniques)\n",
    "  - [Recommendations](#Recommendations)\n",
    "- [Guiding Questions](#Guiding-Questions)\n",
    "- [Prepare Data](#Prepare-Data)\n",
    "- [Process Data](#Process-Data)\n",
    "- [Analysis](#Analysis)\n",
    "- [References](#References)\n",
    "- [Contact](#Contact)"
   ]
  },
  {
   "cell_type": "markdown",
   "metadata": {},
   "source": [
    "## Summary \n",
    "\n",
    "It's no secret that Amazon has become a behemoth of an organization, but it started out by starting selling books. And by the end of the time period for this data set (2019), Amazon enjoys a 50% share of all book distribution and an eBook market share around 67% ([source](https://justpublishingadvice.com/why-do-amazon-sell-more-ebooks-than-other-retailers/)). For writers and publishers around the world, it's hard to ignore Amazon's success and it seems unwise to consider not publishing to the platform. \n",
    "\n",
    "This case study will investgiate the top 50 bestselling authors and books over the ten year period from 2009-2019. The goal is to provide insights so writers and publishers can make data-informed decisions about long-term goals. \n",
    "\n",
    "### Guiding Questions\n",
    "\n",
    "For this case study, our main guiding question is:\n",
    "\n",
    "**How can trends from the Top 50 Amazon Bestsellers over a 10-year period inform long-term goals for authors and publishers?**\n",
    "\n",
    "To address this question, we will be exploring the answering the following sub questions: \n",
    "\n",
    "- What author(s) published the most between 2009-2019? \n",
    "- What percentage of books were fiction vs. non-fiction? \n",
    "- What book appears the most between 2009-2019?\n",
    "\n",
    "### Tools and Techniques\n",
    "\n",
    "This analysis made use of the following tools and techniques: \n",
    "\n",
    "- Python programming language and libraries; `pandas`, `seaborn`, `numpy`, and `matplotlib`\n",
    "- Data transformations: extraction, visualizations, summary statistics\n",
    "- Data inspection: removal of duplicate/unnessary data, change format/datatype, verify unique values\n",
    "\n",
    "### Recommendations\n",
    "\n",
    "The analysis yielded the following key observations: \n",
    "\n",
    "- Most authors (75%) only published twice during this 10-year period\n",
    "- A majority (73%) of the expensive books (books priced greater than 16 USD) were non-fiction\n",
    "- most books (75%) published during this 10-year period were under 16 USD and 50% of them were priced between 7 USD and 16 USD\n",
    "\n",
    "These observations led to the following recommendations outlined below. \n",
    "\n",
    "#### Focus on high quality content \n",
    "\n",
    "Most authors (75%) only published twice during this 10-year period. It takes a lot to publish a book -- drafting, writing, editing, and revising. This would seem to indicate that for those authors who made it into the Top 50 bestsellers list their book was most likely well-received because it was well-written. \n",
    "\n",
    "For writers/publishers, seeking to make it on these lists in the next ten years this means focusing on writing less and writing better. By slowing down to focus on higher quality content it increases your chance of your book being received well and popular. \n",
    "\n",
    "#### For higher priced books, focus on non-fiction\n",
    "\n",
    "A majority (73%) of the expensive books (books priced greater than 16 USD) were non-fiction. Being that non-fiction books generally require more research and effort to write, it make sense that they would be priced higher to reflect that. For authors/publishers seeking earn more, they might consider shifting their output to non-fiction books. This could be more lucrative if combined with other sources of incomes such speaking engagements, workshops, courses, etc.\n",
    "\n",
    "#### Set price between 7 and 16 USD\n",
    "\n",
    "This is likely to change due to inflation and increase production costs, but it should be noted that most books (75%) published during this 10-year period were under 16 USD and 50% of them were priced in this range. In other words, when choosing the book price ensure that it is within the current range of book prices -- not too high, but not too low. "
   ]
  },
  {
   "cell_type": "markdown",
   "metadata": {},
   "source": [
    "## Guiding Questions\n",
    "\n",
    "For this case study, our main guiding question is:\n",
    "\n",
    "**How can trends from the Top 50 Amazon Bestsellers over a 10-year period inform long-term goals for authors and publishers?**\n",
    "\n",
    "To address this question, we will be exploring the answering the following sub questions: \n",
    "\n",
    "- What author(s) published the most between 2009-2019? \n",
    "- What percentage of books were fiction vs. non-fiction? \n",
    "- What book appears the most between 2009-2019?"
   ]
  },
  {
   "cell_type": "markdown",
   "metadata": {},
   "source": [
    "## Prepare Data\n",
    "\n",
    "### Dataset\n",
    "\n",
    "The data we'll be working with is the [Amazon Top 50 Bestselling Books 2009 - 2019](https://www.kaggle.com/datasets/sootersaalu/amazon-top-50-bestselling-books-2009-2019) provided by [Scooter Saalu](https://www.kaggle.com/sootersaalu) on Kaggle.\n",
    "\n",
    "#### Description\n",
    "The dataset contains Amazon's Top 50 bestselling books from 2009 to 2019. There are 550 books with the data being categorized into fiction and non-fiction using Goodreads.\n",
    "\n",
    "The data contains the following columns:\n",
    "\n",
    "- **Name**: Name of the book (i.e., book title)\n",
    "- **Author**: Name of the person/organization who wrote/published the book\n",
    "- **User rating**: Average user rating on a scale of 1 to 5 in a given year\n",
    "- **Reviews**: The total number of reviews the book received in a given \n",
    "- **Year**: The year the book appeared on the bestseller list\n",
    "- **Price**: The list price of the book in a given year\n",
    "\n",
    "#### License\n",
    "The data is made available to use via the [CC0: Public Domain](https://creativecommons.org/publicdomain/zero/1.0/) license which allows anyone to \"copy, modify, distribute and perform the work, even for commercial purposes, all without asking permission\"."
   ]
  },
  {
   "cell_type": "markdown",
   "metadata": {},
   "source": [
    "## Process Data\n",
    "Let's import our libraries and start processing our data. We will look for the following abnormalities: \n",
    "\n",
    "- Check for missing values\n",
    "- Investigate outliers\n",
    "- Confirm data types"
   ]
  },
  {
   "cell_type": "code",
   "execution_count": 236,
   "metadata": {},
   "outputs": [],
   "source": [
    "import numpy as np\n",
    "import pandas as pd\n",
    "import matplotlib.pyplot as plt\n",
    "import seaborn as sns"
   ]
  },
  {
   "cell_type": "markdown",
   "metadata": {},
   "source": [
    "### Quick overview"
   ]
  },
  {
   "cell_type": "code",
   "execution_count": 237,
   "metadata": {},
   "outputs": [],
   "source": [
    "df = pd.read_csv('amazon_bestsellers_2009-2019.csv')"
   ]
  },
  {
   "cell_type": "code",
   "execution_count": 238,
   "metadata": {},
   "outputs": [
    {
     "data": {
      "text/plain": [
       "(550, 7)"
      ]
     },
     "execution_count": 238,
     "metadata": {},
     "output_type": "execute_result"
    }
   ],
   "source": [
    "df.shape"
   ]
  },
  {
   "cell_type": "code",
   "execution_count": 239,
   "metadata": {
    "scrolled": true
   },
   "outputs": [
    {
     "data": {
      "text/html": [
       "<div>\n",
       "<style scoped>\n",
       "    .dataframe tbody tr th:only-of-type {\n",
       "        vertical-align: middle;\n",
       "    }\n",
       "\n",
       "    .dataframe tbody tr th {\n",
       "        vertical-align: top;\n",
       "    }\n",
       "\n",
       "    .dataframe thead th {\n",
       "        text-align: right;\n",
       "    }\n",
       "</style>\n",
       "<table border=\"1\" class=\"dataframe\">\n",
       "  <thead>\n",
       "    <tr style=\"text-align: right;\">\n",
       "      <th></th>\n",
       "      <th>Name</th>\n",
       "      <th>Author</th>\n",
       "      <th>User Rating</th>\n",
       "      <th>Reviews</th>\n",
       "      <th>Price</th>\n",
       "      <th>Year</th>\n",
       "      <th>Genre</th>\n",
       "    </tr>\n",
       "  </thead>\n",
       "  <tbody>\n",
       "    <tr>\n",
       "      <th>0</th>\n",
       "      <td>10-Day Green Smoothie Cleanse</td>\n",
       "      <td>JJ Smith</td>\n",
       "      <td>4.7</td>\n",
       "      <td>17350</td>\n",
       "      <td>8</td>\n",
       "      <td>2016</td>\n",
       "      <td>Non Fiction</td>\n",
       "    </tr>\n",
       "    <tr>\n",
       "      <th>1</th>\n",
       "      <td>11/22/63: A Novel</td>\n",
       "      <td>Stephen King</td>\n",
       "      <td>4.6</td>\n",
       "      <td>2052</td>\n",
       "      <td>22</td>\n",
       "      <td>2011</td>\n",
       "      <td>Fiction</td>\n",
       "    </tr>\n",
       "    <tr>\n",
       "      <th>2</th>\n",
       "      <td>12 Rules for Life: An Antidote to Chaos</td>\n",
       "      <td>Jordan B. Peterson</td>\n",
       "      <td>4.7</td>\n",
       "      <td>18979</td>\n",
       "      <td>15</td>\n",
       "      <td>2018</td>\n",
       "      <td>Non Fiction</td>\n",
       "    </tr>\n",
       "    <tr>\n",
       "      <th>3</th>\n",
       "      <td>1984 (Signet Classics)</td>\n",
       "      <td>George Orwell</td>\n",
       "      <td>4.7</td>\n",
       "      <td>21424</td>\n",
       "      <td>6</td>\n",
       "      <td>2017</td>\n",
       "      <td>Fiction</td>\n",
       "    </tr>\n",
       "    <tr>\n",
       "      <th>4</th>\n",
       "      <td>5,000 Awesome Facts (About Everything!) (Natio...</td>\n",
       "      <td>National Geographic Kids</td>\n",
       "      <td>4.8</td>\n",
       "      <td>7665</td>\n",
       "      <td>12</td>\n",
       "      <td>2019</td>\n",
       "      <td>Non Fiction</td>\n",
       "    </tr>\n",
       "  </tbody>\n",
       "</table>\n",
       "</div>"
      ],
      "text/plain": [
       "                                                Name  \\\n",
       "0                      10-Day Green Smoothie Cleanse   \n",
       "1                                  11/22/63: A Novel   \n",
       "2            12 Rules for Life: An Antidote to Chaos   \n",
       "3                             1984 (Signet Classics)   \n",
       "4  5,000 Awesome Facts (About Everything!) (Natio...   \n",
       "\n",
       "                     Author  User Rating  Reviews  Price  Year        Genre  \n",
       "0                  JJ Smith          4.7    17350      8  2016  Non Fiction  \n",
       "1              Stephen King          4.6     2052     22  2011      Fiction  \n",
       "2        Jordan B. Peterson          4.7    18979     15  2018  Non Fiction  \n",
       "3             George Orwell          4.7    21424      6  2017      Fiction  \n",
       "4  National Geographic Kids          4.8     7665     12  2019  Non Fiction  "
      ]
     },
     "execution_count": 239,
     "metadata": {},
     "output_type": "execute_result"
    }
   ],
   "source": [
    "df.head()"
   ]
  },
  {
   "cell_type": "code",
   "execution_count": 240,
   "metadata": {
    "scrolled": false
   },
   "outputs": [
    {
     "data": {
      "text/html": [
       "<div>\n",
       "<style scoped>\n",
       "    .dataframe tbody tr th:only-of-type {\n",
       "        vertical-align: middle;\n",
       "    }\n",
       "\n",
       "    .dataframe tbody tr th {\n",
       "        vertical-align: top;\n",
       "    }\n",
       "\n",
       "    .dataframe thead th {\n",
       "        text-align: right;\n",
       "    }\n",
       "</style>\n",
       "<table border=\"1\" class=\"dataframe\">\n",
       "  <thead>\n",
       "    <tr style=\"text-align: right;\">\n",
       "      <th></th>\n",
       "      <th>User Rating</th>\n",
       "      <th>Reviews</th>\n",
       "      <th>Price</th>\n",
       "      <th>Year</th>\n",
       "    </tr>\n",
       "  </thead>\n",
       "  <tbody>\n",
       "    <tr>\n",
       "      <th>count</th>\n",
       "      <td>550.000000</td>\n",
       "      <td>550.000000</td>\n",
       "      <td>550.000000</td>\n",
       "      <td>550.000000</td>\n",
       "    </tr>\n",
       "    <tr>\n",
       "      <th>mean</th>\n",
       "      <td>4.618364</td>\n",
       "      <td>11953.281818</td>\n",
       "      <td>13.100000</td>\n",
       "      <td>2014.000000</td>\n",
       "    </tr>\n",
       "    <tr>\n",
       "      <th>std</th>\n",
       "      <td>0.226980</td>\n",
       "      <td>11731.132017</td>\n",
       "      <td>10.842262</td>\n",
       "      <td>3.165156</td>\n",
       "    </tr>\n",
       "    <tr>\n",
       "      <th>min</th>\n",
       "      <td>3.300000</td>\n",
       "      <td>37.000000</td>\n",
       "      <td>0.000000</td>\n",
       "      <td>2009.000000</td>\n",
       "    </tr>\n",
       "    <tr>\n",
       "      <th>25%</th>\n",
       "      <td>4.500000</td>\n",
       "      <td>4058.000000</td>\n",
       "      <td>7.000000</td>\n",
       "      <td>2011.000000</td>\n",
       "    </tr>\n",
       "    <tr>\n",
       "      <th>50%</th>\n",
       "      <td>4.700000</td>\n",
       "      <td>8580.000000</td>\n",
       "      <td>11.000000</td>\n",
       "      <td>2014.000000</td>\n",
       "    </tr>\n",
       "    <tr>\n",
       "      <th>75%</th>\n",
       "      <td>4.800000</td>\n",
       "      <td>17253.250000</td>\n",
       "      <td>16.000000</td>\n",
       "      <td>2017.000000</td>\n",
       "    </tr>\n",
       "    <tr>\n",
       "      <th>max</th>\n",
       "      <td>4.900000</td>\n",
       "      <td>87841.000000</td>\n",
       "      <td>105.000000</td>\n",
       "      <td>2019.000000</td>\n",
       "    </tr>\n",
       "  </tbody>\n",
       "</table>\n",
       "</div>"
      ],
      "text/plain": [
       "       User Rating       Reviews       Price         Year\n",
       "count   550.000000    550.000000  550.000000   550.000000\n",
       "mean      4.618364  11953.281818   13.100000  2014.000000\n",
       "std       0.226980  11731.132017   10.842262     3.165156\n",
       "min       3.300000     37.000000    0.000000  2009.000000\n",
       "25%       4.500000   4058.000000    7.000000  2011.000000\n",
       "50%       4.700000   8580.000000   11.000000  2014.000000\n",
       "75%       4.800000  17253.250000   16.000000  2017.000000\n",
       "max       4.900000  87841.000000  105.000000  2019.000000"
      ]
     },
     "execution_count": 240,
     "metadata": {},
     "output_type": "execute_result"
    }
   ],
   "source": [
    "df.describe()"
   ]
  },
  {
   "cell_type": "markdown",
   "metadata": {},
   "source": [
    "### Check for missing values"
   ]
  },
  {
   "cell_type": "code",
   "execution_count": 241,
   "metadata": {},
   "outputs": [
    {
     "data": {
      "text/plain": [
       "Name           0\n",
       "Author         0\n",
       "User Rating    0\n",
       "Reviews        0\n",
       "Price          0\n",
       "Year           0\n",
       "Genre          0\n",
       "dtype: int64"
      ]
     },
     "execution_count": 241,
     "metadata": {},
     "output_type": "execute_result"
    }
   ],
   "source": [
    "df.isnull().sum()"
   ]
  },
  {
   "cell_type": "markdown",
   "metadata": {},
   "source": [
    "**Observations**\n",
    "\n",
    "No missing values found."
   ]
  },
  {
   "cell_type": "markdown",
   "metadata": {},
   "source": [
    "### Investigate outliers "
   ]
  },
  {
   "cell_type": "code",
   "execution_count": 242,
   "metadata": {},
   "outputs": [
    {
     "data": {
      "image/png": "[encoded data removed]",
      "text/plain": [
       "<Figure size 640x480 with 1 Axes>"
      ]
     },
     "metadata": {},
     "output_type": "display_data"
    },
    {
     "data": {
      "image/png": "[encoded data removed]",
      "text/plain": [
       "<Figure size 640x480 with 1 Axes>"
      ]
     },
     "metadata": {},
     "output_type": "display_data"
    },
    {
     "data": {
      "image/png": "[encoded data removed]",
      "text/plain": [
       "<Figure size 640x480 with 1 Axes>"
      ]
     },
     "metadata": {},
     "output_type": "display_data"
    },
    {
     "data": {
      "image/png": "[encoded data removed]",
      "text/plain": [
       "<Figure size 640x480 with 1 Axes>"
      ]
     },
     "metadata": {},
     "output_type": "display_data"
    }
   ],
   "source": [
    "columns_to_plot = ['User Rating', 'Reviews', 'Price', 'Year']\n",
    "for column_name in columns_to_plot:\n",
    "    plt.boxplot(df[column_name])\n",
    "    plt.title('Box Plot:' + column_name)\n",
    "    plt.xlabel(column_name)\n",
    "    plt.ylabel('Value')\n",
    "    plt.show()"
   ]
  },
  {
   "cell_type": "markdown",
   "metadata": {},
   "source": [
    "**Observations**\n",
    "\n",
    "Price, User Ratings, and Reviews have outliers. However, this is to be expected since there would be variablity in book prices as well as the number of ratings and reviews a book receives. Further, the outliers presented in the data do not seem unreasonable given the context of the data."
   ]
  },
  {
   "cell_type": "markdown",
   "metadata": {},
   "source": [
    "### Confirm data types"
   ]
  },
  {
   "cell_type": "code",
   "execution_count": 243,
   "metadata": {},
   "outputs": [
    {
     "data": {
      "text/plain": [
       "Name            object\n",
       "Author          object\n",
       "User Rating    float64\n",
       "Reviews          int64\n",
       "Price            int64\n",
       "Year             int64\n",
       "Genre           object\n",
       "dtype: object"
      ]
     },
     "execution_count": 243,
     "metadata": {},
     "output_type": "execute_result"
    }
   ],
   "source": [
    "df.dtypes"
   ]
  },
  {
   "cell_type": "markdown",
   "metadata": {},
   "source": [
    "**Observations**\n",
    "\n",
    "No abnormal data types. "
   ]
  },
  {
   "cell_type": "markdown",
   "metadata": {},
   "source": [
    "### Process Conlcusions \n",
    "- No missing values; contains 550 entries (as described in the source)\n",
    "- The max and min of the year matches what is the data description \n",
    "- The data types for each column match what is described (i.e., numbers are numbers, categorical data are objects/strings)"
   ]
  },
  {
   "cell_type": "markdown",
   "metadata": {},
   "source": [
    "## Analysis"
   ]
  },
  {
   "cell_type": "markdown",
   "metadata": {},
   "source": [
    "### Correlation Heatmap"
   ]
  },
  {
   "cell_type": "code",
   "execution_count": 244,
   "metadata": {},
   "outputs": [
    {
     "data": {
      "image/png": "[encoded data removed]",
      "text/plain": [
       "<Figure size 1000x800 with 2 Axes>"
      ]
     },
     "metadata": {},
     "output_type": "display_data"
    }
   ],
   "source": [
    "correlation_matrix = df[['User Rating', 'Price', 'Reviews', 'Year']].corr()\n",
    "\n",
    "plt.figure(figsize=(10,8))\n",
    "\n",
    "sns.heatmap(correlation_matrix, annot=True, cmap='coolwarm')\n",
    "\n",
    "plt.title('Correlation Heatmap')\n",
    "\n",
    "plt.show()"
   ]
  },
  {
   "cell_type": "markdown",
   "metadata": {},
   "source": [
    "**Observations**\n",
    "\n",
    "Little or no correllation between User Rating, Price, and Reviews. "
   ]
  },
  {
   "cell_type": "markdown",
   "metadata": {},
   "source": [
    "### Genre"
   ]
  },
  {
   "cell_type": "code",
   "execution_count": 245,
   "metadata": {},
   "outputs": [
    {
     "name": "stdout",
     "output_type": "stream",
     "text": [
      "Non Fiction    310\n",
      "Fiction        240\n",
      "Name: Genre, dtype: int64\n"
     ]
    },
    {
     "data": {
      "image/png": "[encoded data removed]",
      "text/plain": [
       "<Figure size 640x480 with 1 Axes>"
      ]
     },
     "metadata": {},
     "output_type": "display_data"
    }
   ],
   "source": [
    "genre = df[\"Genre\"].value_counts()\n",
    "print(genre)\n",
    "\n",
    "percent_non_fic = round(((genre['Non Fiction'] / 550) * 100))\n",
    "percent_fic = round(((genre['Fiction'] / 550) * 100))\n",
    "\n",
    "sizes = [percent_non_fic, percent_fic]\n",
    "labels = ['Non Fiction', 'Fiction']\n",
    "\n",
    "plt.pie(sizes, labels=labels, autopct='%1.1f%%', startangle=140)\n",
    "plt.axis('equal')\n",
    "plt.title('Genre')\n",
    "plt.show()"
   ]
  },
  {
   "cell_type": "code",
   "execution_count": 246,
   "metadata": {
    "scrolled": true
   },
   "outputs": [
    {
     "data": {
      "image/png": "[encoded data removed]",
      "text/plain": [
       "<Figure size 640x480 with 1 Axes>"
      ]
     },
     "metadata": {},
     "output_type": "display_data"
    }
   ],
   "source": [
    "sns.countplot(x='Genre', data=df)\n",
    " \n",
    "plt.xticks(rotation=-45)\n",
    "\n",
    "plt.show()"
   ]
  },
  {
   "cell_type": "markdown",
   "metadata": {},
   "source": [
    "**Observations**\n",
    "\n",
    "- Most books are non-fiction, but only by a slight majority\n",
    "  - Non Fiction: 56%\n",
    "  - Fiction: 44%"
   ]
  },
  {
   "cell_type": "markdown",
   "metadata": {},
   "source": [
    "### Price"
   ]
  },
  {
   "cell_type": "markdown",
   "metadata": {},
   "source": [
    "#### Summary Statistics"
   ]
  },
  {
   "cell_type": "code",
   "execution_count": 247,
   "metadata": {},
   "outputs": [
    {
     "data": {
      "text/plain": [
       "count    550.000000\n",
       "mean      13.100000\n",
       "std       10.842262\n",
       "min        0.000000\n",
       "25%        7.000000\n",
       "50%       11.000000\n",
       "75%       16.000000\n",
       "max      105.000000\n",
       "Name: Price, dtype: float64"
      ]
     },
     "execution_count": 247,
     "metadata": {},
     "output_type": "execute_result"
    }
   ],
   "source": [
    "df[\"Price\"].describe()"
   ]
  },
  {
   "cell_type": "markdown",
   "metadata": {},
   "source": [
    "#### Box plot"
   ]
  },
  {
   "cell_type": "code",
   "execution_count": 248,
   "metadata": {},
   "outputs": [
    {
     "data": {
      "image/png": "[encoded data removed]",
      "text/plain": [
       "<Figure size 640x480 with 1 Axes>"
      ]
     },
     "metadata": {},
     "output_type": "display_data"
    }
   ],
   "source": [
    "plt.boxplot(df['Price'])\n",
    "plt.title('Box Plot of Price Values')\n",
    "plt.xlabel('Price')\n",
    "plt.ylabel('Value')\n",
    "plt.yticks(range(0, 110, 5))\n",
    "plt.show()"
   ]
  },
  {
   "cell_type": "markdown",
   "metadata": {},
   "source": [
    "#### Histogram"
   ]
  },
  {
   "cell_type": "code",
   "execution_count": 249,
   "metadata": {},
   "outputs": [
    {
     "data": {
      "image/png": "[encoded data removed]",
      "text/plain": [
       "<Figure size 640x480 with 1 Axes>"
      ]
     },
     "metadata": {},
     "output_type": "display_data"
    }
   ],
   "source": [
    "plt.figure(figsize=(8,6), dpi=80)\n",
    "sns.histplot(data=df[\"Price\"], bins='auto')\n",
    "\n",
    "plt.title('Amazon Bestsellers 2009-2019: Price')\n",
    "plt.xlabel('Price')\n",
    "plt.ylabel('Frequency')\n",
    "\n",
    "plt.show()"
   ]
  },
  {
   "cell_type": "markdown",
   "metadata": {},
   "source": [
    "**Observations**\n",
    "\n",
    "- 50% of the price values for books are between 7 USD and 16 USD. \n",
    "- Outliers are greater than 30 USD"
   ]
  },
  {
   "cell_type": "markdown",
   "metadata": {},
   "source": [
    "#### Expensive Books\n",
    "\n",
    "For our purposes we will define a book as expensive it costs more than 16 USD since 75% of books in our data set cost less than that. "
   ]
  },
  {
   "cell_type": "code",
   "execution_count": 250,
   "metadata": {},
   "outputs": [
    {
     "name": "stdout",
     "output_type": "stream",
     "text": [
      "122 books sold for more than 16 USD\n"
     ]
    },
    {
     "data": {
      "text/html": [
       "<div>\n",
       "<style scoped>\n",
       "    .dataframe tbody tr th:only-of-type {\n",
       "        vertical-align: middle;\n",
       "    }\n",
       "\n",
       "    .dataframe tbody tr th {\n",
       "        vertical-align: top;\n",
       "    }\n",
       "\n",
       "    .dataframe thead th {\n",
       "        text-align: right;\n",
       "    }\n",
       "</style>\n",
       "<table border=\"1\" class=\"dataframe\">\n",
       "  <thead>\n",
       "    <tr style=\"text-align: right;\">\n",
       "      <th></th>\n",
       "      <th>Name</th>\n",
       "      <th>Author</th>\n",
       "      <th>User Rating</th>\n",
       "      <th>Reviews</th>\n",
       "      <th>Price</th>\n",
       "      <th>Year</th>\n",
       "      <th>Genre</th>\n",
       "    </tr>\n",
       "  </thead>\n",
       "  <tbody>\n",
       "    <tr>\n",
       "      <th>69</th>\n",
       "      <td>Diagnostic and Statistical Manual of Mental Di...</td>\n",
       "      <td>American Psychiatric Association</td>\n",
       "      <td>4.5</td>\n",
       "      <td>6679</td>\n",
       "      <td>105</td>\n",
       "      <td>2013</td>\n",
       "      <td>Non Fiction</td>\n",
       "    </tr>\n",
       "    <tr>\n",
       "      <th>70</th>\n",
       "      <td>Diagnostic and Statistical Manual of Mental Di...</td>\n",
       "      <td>American Psychiatric Association</td>\n",
       "      <td>4.5</td>\n",
       "      <td>6679</td>\n",
       "      <td>105</td>\n",
       "      <td>2014</td>\n",
       "      <td>Non Fiction</td>\n",
       "    </tr>\n",
       "    <tr>\n",
       "      <th>473</th>\n",
       "      <td>The Twilight Saga Collection</td>\n",
       "      <td>Stephenie Meyer</td>\n",
       "      <td>4.7</td>\n",
       "      <td>3801</td>\n",
       "      <td>82</td>\n",
       "      <td>2009</td>\n",
       "      <td>Fiction</td>\n",
       "    </tr>\n",
       "    <tr>\n",
       "      <th>151</th>\n",
       "      <td>Hamilton: The Revolution</td>\n",
       "      <td>Lin-Manuel Miranda</td>\n",
       "      <td>4.9</td>\n",
       "      <td>5867</td>\n",
       "      <td>54</td>\n",
       "      <td>2016</td>\n",
       "      <td>Non Fiction</td>\n",
       "    </tr>\n",
       "    <tr>\n",
       "      <th>346</th>\n",
       "      <td>The Book of Basketball: The NBA According to T...</td>\n",
       "      <td>Bill Simmons</td>\n",
       "      <td>4.7</td>\n",
       "      <td>858</td>\n",
       "      <td>53</td>\n",
       "      <td>2009</td>\n",
       "      <td>Non Fiction</td>\n",
       "    </tr>\n",
       "    <tr>\n",
       "      <th>...</th>\n",
       "      <td>...</td>\n",
       "      <td>...</td>\n",
       "      <td>...</td>\n",
       "      <td>...</td>\n",
       "      <td>...</td>\n",
       "      <td>...</td>\n",
       "      <td>...</td>\n",
       "    </tr>\n",
       "    <tr>\n",
       "      <th>311</th>\n",
       "      <td>StrengthsFinder 2.0</td>\n",
       "      <td>Gallup</td>\n",
       "      <td>4.0</td>\n",
       "      <td>5069</td>\n",
       "      <td>17</td>\n",
       "      <td>2016</td>\n",
       "      <td>Non Fiction</td>\n",
       "    </tr>\n",
       "    <tr>\n",
       "      <th>446</th>\n",
       "      <td>The Pioneer Woman Cooks: A Year of Holidays: 1...</td>\n",
       "      <td>Ree Drummond</td>\n",
       "      <td>4.8</td>\n",
       "      <td>2663</td>\n",
       "      <td>17</td>\n",
       "      <td>2013</td>\n",
       "      <td>Non Fiction</td>\n",
       "    </tr>\n",
       "    <tr>\n",
       "      <th>312</th>\n",
       "      <td>StrengthsFinder 2.0</td>\n",
       "      <td>Gallup</td>\n",
       "      <td>4.0</td>\n",
       "      <td>5069</td>\n",
       "      <td>17</td>\n",
       "      <td>2017</td>\n",
       "      <td>Non Fiction</td>\n",
       "    </tr>\n",
       "    <tr>\n",
       "      <th>342</th>\n",
       "      <td>The Big Short: Inside the Doomsday Machine</td>\n",
       "      <td>Michael Lewis</td>\n",
       "      <td>4.7</td>\n",
       "      <td>3536</td>\n",
       "      <td>17</td>\n",
       "      <td>2010</td>\n",
       "      <td>Non Fiction</td>\n",
       "    </tr>\n",
       "    <tr>\n",
       "      <th>307</th>\n",
       "      <td>StrengthsFinder 2.0</td>\n",
       "      <td>Gallup</td>\n",
       "      <td>4.0</td>\n",
       "      <td>5069</td>\n",
       "      <td>17</td>\n",
       "      <td>2012</td>\n",
       "      <td>Non Fiction</td>\n",
       "    </tr>\n",
       "  </tbody>\n",
       "</table>\n",
       "<p>122 rows × 7 columns</p>\n",
       "</div>"
      ],
      "text/plain": [
       "                                                  Name  \\\n",
       "69   Diagnostic and Statistical Manual of Mental Di...   \n",
       "70   Diagnostic and Statistical Manual of Mental Di...   \n",
       "473                       The Twilight Saga Collection   \n",
       "151                           Hamilton: The Revolution   \n",
       "346  The Book of Basketball: The NBA According to T...   \n",
       "..                                                 ...   \n",
       "311                                StrengthsFinder 2.0   \n",
       "446  The Pioneer Woman Cooks: A Year of Holidays: 1...   \n",
       "312                                StrengthsFinder 2.0   \n",
       "342         The Big Short: Inside the Doomsday Machine   \n",
       "307                                StrengthsFinder 2.0   \n",
       "\n",
       "                               Author  User Rating  Reviews  Price  Year  \\\n",
       "69   American Psychiatric Association          4.5     6679    105  2013   \n",
       "70   American Psychiatric Association          4.5     6679    105  2014   \n",
       "473                   Stephenie Meyer          4.7     3801     82  2009   \n",
       "151                Lin-Manuel Miranda          4.9     5867     54  2016   \n",
       "346                      Bill Simmons          4.7      858     53  2009   \n",
       "..                                ...          ...      ...    ...   ...   \n",
       "311                            Gallup          4.0     5069     17  2016   \n",
       "446                      Ree Drummond          4.8     2663     17  2013   \n",
       "312                            Gallup          4.0     5069     17  2017   \n",
       "342                     Michael Lewis          4.7     3536     17  2010   \n",
       "307                            Gallup          4.0     5069     17  2012   \n",
       "\n",
       "           Genre  \n",
       "69   Non Fiction  \n",
       "70   Non Fiction  \n",
       "473      Fiction  \n",
       "151  Non Fiction  \n",
       "346  Non Fiction  \n",
       "..           ...  \n",
       "311  Non Fiction  \n",
       "446  Non Fiction  \n",
       "312  Non Fiction  \n",
       "342  Non Fiction  \n",
       "307  Non Fiction  \n",
       "\n",
       "[122 rows x 7 columns]"
      ]
     },
     "execution_count": 250,
     "metadata": {},
     "output_type": "execute_result"
    }
   ],
   "source": [
    "expensive_books_sorted = df.loc[df['Price']>16].sort_values(by='Price', ascending=False)\n",
    "\n",
    "num_expensive_books = len(expensive_books_sorted)\n",
    "\n",
    "print(num_expensive_books, 'books sold for more than 16 USD')\n",
    "expensive_books_sorted"
   ]
  },
  {
   "cell_type": "markdown",
   "metadata": {},
   "source": [
    "##### Summary Statistics"
   ]
  },
  {
   "cell_type": "code",
   "execution_count": 251,
   "metadata": {},
   "outputs": [
    {
     "data": {
      "text/plain": [
       "count    122.000000\n",
       "mean      27.172131\n",
       "std       14.925541\n",
       "min       17.000000\n",
       "25%       18.000000\n",
       "50%       21.000000\n",
       "75%       29.500000\n",
       "max      105.000000\n",
       "Name: Price, dtype: float64"
      ]
     },
     "execution_count": 251,
     "metadata": {},
     "output_type": "execute_result"
    }
   ],
   "source": [
    "expensive_books_sorted['Price'].describe()"
   ]
  },
  {
   "cell_type": "markdown",
   "metadata": {},
   "source": [
    "##### Box plot"
   ]
  },
  {
   "cell_type": "code",
   "execution_count": 252,
   "metadata": {},
   "outputs": [
    {
     "data": {
      "image/png": "[encoded data removed]",
      "text/plain": [
       "<Figure size 640x480 with 1 Axes>"
      ]
     },
     "metadata": {},
     "output_type": "display_data"
    }
   ],
   "source": [
    "plt.boxplot(expensive_books_sorted['Price'])\n",
    "plt.title('Expensive Books (>$16)')\n",
    "plt.xlabel('Price')\n",
    "plt.ylabel('Value')\n",
    "\n",
    "plt.show()"
   ]
  },
  {
   "cell_type": "markdown",
   "metadata": {},
   "source": [
    "##### Pie chart"
   ]
  },
  {
   "cell_type": "code",
   "execution_count": 253,
   "metadata": {},
   "outputs": [
    {
     "name": "stdout",
     "output_type": "stream",
     "text": [
      "Non Fiction    89\n",
      "Fiction        33\n",
      "Name: Genre, dtype: int64\n"
     ]
    },
    {
     "data": {
      "image/png": "[encoded data removed]",
      "text/plain": [
       "<Figure size 640x480 with 1 Axes>"
      ]
     },
     "metadata": {},
     "output_type": "display_data"
    }
   ],
   "source": [
    "expensive_books_genre = expensive_books_sorted['Genre'].value_counts()\n",
    "percent_non_fic_expensive = round((expensive_books_genre['Non Fiction'] / num_expensive_books) * 100)\n",
    "percent_fic_expensive = round((expensive_books_genre['Fiction'] / num_expensive_books) * 100)\n",
    "\n",
    "print(expensive_books_genre)\n",
    "\n",
    "# pie chart of genre for expensive books\n",
    "genre_percents_expensive = [percent_non_fic_expensive, percent_fic_expensive]\n",
    "genre_labels_expensive = ['Non Fiction', 'Fiction']\n",
    "\n",
    "plt.pie(genre_percents_expensive, labels=genre_labels_expensive, autopct='%1.0f%%', startangle=140)\n",
    "plt.axis('equal')\n",
    "plt.title('Expensive Books: Genre')\n",
    "\n",
    "plt.show()"
   ]
  },
  {
   "cell_type": "markdown",
   "metadata": {},
   "source": [
    "##### Highest priced book"
   ]
  },
  {
   "cell_type": "code",
   "execution_count": 254,
   "metadata": {},
   "outputs": [
    {
     "data": {
      "text/html": [
       "<div>\n",
       "<style scoped>\n",
       "    .dataframe tbody tr th:only-of-type {\n",
       "        vertical-align: middle;\n",
       "    }\n",
       "\n",
       "    .dataframe tbody tr th {\n",
       "        vertical-align: top;\n",
       "    }\n",
       "\n",
       "    .dataframe thead th {\n",
       "        text-align: right;\n",
       "    }\n",
       "</style>\n",
       "<table border=\"1\" class=\"dataframe\">\n",
       "  <thead>\n",
       "    <tr style=\"text-align: right;\">\n",
       "      <th></th>\n",
       "      <th>Name</th>\n",
       "      <th>Author</th>\n",
       "      <th>User Rating</th>\n",
       "      <th>Reviews</th>\n",
       "      <th>Price</th>\n",
       "      <th>Year</th>\n",
       "      <th>Genre</th>\n",
       "    </tr>\n",
       "  </thead>\n",
       "  <tbody>\n",
       "    <tr>\n",
       "      <th>69</th>\n",
       "      <td>Diagnostic and Statistical Manual of Mental Di...</td>\n",
       "      <td>American Psychiatric Association</td>\n",
       "      <td>4.5</td>\n",
       "      <td>6679</td>\n",
       "      <td>105</td>\n",
       "      <td>2013</td>\n",
       "      <td>Non Fiction</td>\n",
       "    </tr>\n",
       "    <tr>\n",
       "      <th>70</th>\n",
       "      <td>Diagnostic and Statistical Manual of Mental Di...</td>\n",
       "      <td>American Psychiatric Association</td>\n",
       "      <td>4.5</td>\n",
       "      <td>6679</td>\n",
       "      <td>105</td>\n",
       "      <td>2014</td>\n",
       "      <td>Non Fiction</td>\n",
       "    </tr>\n",
       "  </tbody>\n",
       "</table>\n",
       "</div>"
      ],
      "text/plain": [
       "                                                 Name  \\\n",
       "69  Diagnostic and Statistical Manual of Mental Di...   \n",
       "70  Diagnostic and Statistical Manual of Mental Di...   \n",
       "\n",
       "                              Author  User Rating  Reviews  Price  Year  \\\n",
       "69  American Psychiatric Association          4.5     6679    105  2013   \n",
       "70  American Psychiatric Association          4.5     6679    105  2014   \n",
       "\n",
       "          Genre  \n",
       "69  Non Fiction  \n",
       "70  Non Fiction  "
      ]
     },
     "execution_count": 254,
     "metadata": {},
     "output_type": "execute_result"
    }
   ],
   "source": [
    "df.loc[df[\"Price\"]==105]"
   ]
  },
  {
   "cell_type": "markdown",
   "metadata": {},
   "source": [
    "##### Observations\n",
    "\n",
    "- The two highest priced books (Diagnostic and Statistics Manual... 105 USD, Twilight Saga 82 USD) are 50 USD more expensive than 75% of all the expensive books\n",
    "- A majority (73%) of expensive books are non fiction"
   ]
  },
  {
   "cell_type": "markdown",
   "metadata": {},
   "source": [
    "#### Inexpensive Books\n",
    "\n",
    "For our purposes we will define inexpesive books that are priced less than 7 USD since 25% of all of the books are less than that. "
   ]
  },
  {
   "cell_type": "code",
   "execution_count": 255,
   "metadata": {},
   "outputs": [
    {
     "name": "stdout",
     "output_type": "stream",
     "text": [
      "148 books sold for 7 USD or less\n"
     ]
    },
    {
     "data": {
      "text/html": [
       "<div>\n",
       "<style scoped>\n",
       "    .dataframe tbody tr th:only-of-type {\n",
       "        vertical-align: middle;\n",
       "    }\n",
       "\n",
       "    .dataframe tbody tr th {\n",
       "        vertical-align: top;\n",
       "    }\n",
       "\n",
       "    .dataframe thead th {\n",
       "        text-align: right;\n",
       "    }\n",
       "</style>\n",
       "<table border=\"1\" class=\"dataframe\">\n",
       "  <thead>\n",
       "    <tr style=\"text-align: right;\">\n",
       "      <th></th>\n",
       "      <th>Name</th>\n",
       "      <th>Author</th>\n",
       "      <th>User Rating</th>\n",
       "      <th>Reviews</th>\n",
       "      <th>Price</th>\n",
       "      <th>Year</th>\n",
       "      <th>Genre</th>\n",
       "    </tr>\n",
       "  </thead>\n",
       "  <tbody>\n",
       "    <tr>\n",
       "      <th>147</th>\n",
       "      <td>Goodnight, Goodnight Construction Site (Hardco...</td>\n",
       "      <td>Sherri Duskey Rinker</td>\n",
       "      <td>4.9</td>\n",
       "      <td>7038</td>\n",
       "      <td>7</td>\n",
       "      <td>2013</td>\n",
       "      <td>Fiction</td>\n",
       "    </tr>\n",
       "    <tr>\n",
       "      <th>399</th>\n",
       "      <td>The Handmaid's Tale</td>\n",
       "      <td>Margaret Atwood</td>\n",
       "      <td>4.3</td>\n",
       "      <td>29442</td>\n",
       "      <td>7</td>\n",
       "      <td>2017</td>\n",
       "      <td>Fiction</td>\n",
       "    </tr>\n",
       "    <tr>\n",
       "      <th>367</th>\n",
       "      <td>The Fault in Our Stars</td>\n",
       "      <td>John Green</td>\n",
       "      <td>4.7</td>\n",
       "      <td>50482</td>\n",
       "      <td>7</td>\n",
       "      <td>2014</td>\n",
       "      <td>Fiction</td>\n",
       "    </tr>\n",
       "    <tr>\n",
       "      <th>146</th>\n",
       "      <td>Goodnight, Goodnight Construction Site (Hardco...</td>\n",
       "      <td>Sherri Duskey Rinker</td>\n",
       "      <td>4.9</td>\n",
       "      <td>7038</td>\n",
       "      <td>7</td>\n",
       "      <td>2012</td>\n",
       "      <td>Fiction</td>\n",
       "    </tr>\n",
       "    <tr>\n",
       "      <th>283</th>\n",
       "      <td>Quiet: The Power of Introverts in a World That...</td>\n",
       "      <td>Susan Cain</td>\n",
       "      <td>4.6</td>\n",
       "      <td>10009</td>\n",
       "      <td>7</td>\n",
       "      <td>2013</td>\n",
       "      <td>Non Fiction</td>\n",
       "    </tr>\n",
       "    <tr>\n",
       "      <th>...</th>\n",
       "      <td>...</td>\n",
       "      <td>...</td>\n",
       "      <td>...</td>\n",
       "      <td>...</td>\n",
       "      <td>...</td>\n",
       "      <td>...</td>\n",
       "      <td>...</td>\n",
       "    </tr>\n",
       "    <tr>\n",
       "      <th>381</th>\n",
       "      <td>The Getaway</td>\n",
       "      <td>Jeff Kinney</td>\n",
       "      <td>4.8</td>\n",
       "      <td>5836</td>\n",
       "      <td>0</td>\n",
       "      <td>2017</td>\n",
       "      <td>Fiction</td>\n",
       "    </tr>\n",
       "    <tr>\n",
       "      <th>116</th>\n",
       "      <td>Frozen (Little Golden Book)</td>\n",
       "      <td>RH Disney</td>\n",
       "      <td>4.7</td>\n",
       "      <td>3642</td>\n",
       "      <td>0</td>\n",
       "      <td>2014</td>\n",
       "      <td>Fiction</td>\n",
       "    </tr>\n",
       "    <tr>\n",
       "      <th>42</th>\n",
       "      <td>Cabin Fever (Diary of a Wimpy Kid, Book 6)</td>\n",
       "      <td>Jeff Kinney</td>\n",
       "      <td>4.8</td>\n",
       "      <td>4505</td>\n",
       "      <td>0</td>\n",
       "      <td>2011</td>\n",
       "      <td>Fiction</td>\n",
       "    </tr>\n",
       "    <tr>\n",
       "      <th>358</th>\n",
       "      <td>The Constitution of the United States</td>\n",
       "      <td>Delegates of the Constitutional</td>\n",
       "      <td>4.8</td>\n",
       "      <td>2774</td>\n",
       "      <td>0</td>\n",
       "      <td>2016</td>\n",
       "      <td>Non Fiction</td>\n",
       "    </tr>\n",
       "    <tr>\n",
       "      <th>71</th>\n",
       "      <td>Diary of a Wimpy Kid: Hard Luck, Book 8</td>\n",
       "      <td>Jeff Kinney</td>\n",
       "      <td>4.8</td>\n",
       "      <td>6812</td>\n",
       "      <td>0</td>\n",
       "      <td>2013</td>\n",
       "      <td>Fiction</td>\n",
       "    </tr>\n",
       "  </tbody>\n",
       "</table>\n",
       "<p>148 rows × 7 columns</p>\n",
       "</div>"
      ],
      "text/plain": [
       "                                                  Name  \\\n",
       "147  Goodnight, Goodnight Construction Site (Hardco...   \n",
       "399                                The Handmaid's Tale   \n",
       "367                             The Fault in Our Stars   \n",
       "146  Goodnight, Goodnight Construction Site (Hardco...   \n",
       "283  Quiet: The Power of Introverts in a World That...   \n",
       "..                                                 ...   \n",
       "381                                        The Getaway   \n",
       "116                        Frozen (Little Golden Book)   \n",
       "42          Cabin Fever (Diary of a Wimpy Kid, Book 6)   \n",
       "358              The Constitution of the United States   \n",
       "71             Diary of a Wimpy Kid: Hard Luck, Book 8   \n",
       "\n",
       "                               Author  User Rating  Reviews  Price  Year  \\\n",
       "147              Sherri Duskey Rinker          4.9     7038      7  2013   \n",
       "399                   Margaret Atwood          4.3    29442      7  2017   \n",
       "367                        John Green          4.7    50482      7  2014   \n",
       "146              Sherri Duskey Rinker          4.9     7038      7  2012   \n",
       "283                        Susan Cain          4.6    10009      7  2013   \n",
       "..                                ...          ...      ...    ...   ...   \n",
       "381                       Jeff Kinney          4.8     5836      0  2017   \n",
       "116                         RH Disney          4.7     3642      0  2014   \n",
       "42                        Jeff Kinney          4.8     4505      0  2011   \n",
       "358  Delegates of the Constitutional\n",
       "          4.8     2774      0  2016   \n",
       "71                        Jeff Kinney          4.8     6812      0  2013   \n",
       "\n",
       "           Genre  \n",
       "147      Fiction  \n",
       "399      Fiction  \n",
       "367      Fiction  \n",
       "146      Fiction  \n",
       "283  Non Fiction  \n",
       "..           ...  \n",
       "381      Fiction  \n",
       "116      Fiction  \n",
       "42       Fiction  \n",
       "358  Non Fiction  \n",
       "71       Fiction  \n",
       "\n",
       "[148 rows x 7 columns]"
      ]
     },
     "execution_count": 255,
     "metadata": {},
     "output_type": "execute_result"
    }
   ],
   "source": [
    "inexpensive_books_sorted = df.loc[df[\"Price\"]<=7].sort_values(by='Price', ascending=False)\n",
    "num_inexpensive_books = len(inexpensive_books_sorted)\n",
    "\n",
    "print(num_inexpensive_books, \"books sold for 7 USD or less\", )\n",
    "inexpensive_books_sorted"
   ]
  },
  {
   "cell_type": "markdown",
   "metadata": {},
   "source": [
    "##### Summary Statistics"
   ]
  },
  {
   "cell_type": "code",
   "execution_count": 256,
   "metadata": {},
   "outputs": [
    {
     "data": {
      "text/plain": [
       "count    148.000000\n",
       "mean       4.804054\n",
       "std        1.883183\n",
       "min        0.000000\n",
       "25%        4.000000\n",
       "50%        5.000000\n",
       "75%        6.000000\n",
       "max        7.000000\n",
       "Name: Price, dtype: float64"
      ]
     },
     "execution_count": 256,
     "metadata": {},
     "output_type": "execute_result"
    }
   ],
   "source": [
    "inexpensive_books_sorted['Price'].describe()"
   ]
  },
  {
   "cell_type": "markdown",
   "metadata": {},
   "source": [
    "##### Box plot"
   ]
  },
  {
   "cell_type": "code",
   "execution_count": 257,
   "metadata": {},
   "outputs": [
    {
     "data": {
      "image/png": "[encoded data removed]",
      "text/plain": [
       "<Figure size 640x480 with 1 Axes>"
      ]
     },
     "metadata": {},
     "output_type": "display_data"
    }
   ],
   "source": [
    "plt.boxplot(inexpensive_books_sorted['Price'])\n",
    "plt.title('Inexpensive Books (<=$7)')\n",
    "plt.xlabel('Price')\n",
    "plt.ylabel('Value')\n",
    "\n",
    "plt.show()"
   ]
  },
  {
   "cell_type": "markdown",
   "metadata": {},
   "source": [
    "##### Pie chart"
   ]
  },
  {
   "cell_type": "code",
   "execution_count": 258,
   "metadata": {},
   "outputs": [
    {
     "name": "stdout",
     "output_type": "stream",
     "text": [
      "Fiction        83\n",
      "Non Fiction    65\n",
      "Name: Genre, dtype: int64\n"
     ]
    },
    {
     "data": {
      "image/png": "[encoded data removed]",
      "text/plain": [
       "<Figure size 640x480 with 1 Axes>"
      ]
     },
     "metadata": {},
     "output_type": "display_data"
    }
   ],
   "source": [
    "inexpensive_books_genre = inexpensive_books_sorted['Genre'].value_counts()\n",
    "\n",
    "percent_non_fic_inexpensive = round((inexpensive_books_genre['Non Fiction'] / num_inexpensive_books) * 100)\n",
    "percent_fic_inexpensive = round((inexpensive_books_genre['Fiction'] / num_inexpensive_books) * 100)\n",
    "\n",
    "print(inexpensive_books_genre)\n",
    "\n",
    "# pie chart of genre for inexpesnive books\n",
    "genre_percents_inexpensive = [percent_non_fic_inexpensive, percent_fic_inexpensive]\n",
    "genre_labels_inexpensive = ['Non Fiction', 'Fiction']\n",
    "\n",
    "plt.pie(genre_percents_inexpensive, labels=genre_labels_inexpensive, autopct='%1.0f%%', startangle=140)\n",
    "plt.axis('equal')\n",
    "plt.title('Inexpensive Books: Genre')\n",
    "\n",
    "plt.show()"
   ]
  },
  {
   "cell_type": "markdown",
   "metadata": {},
   "source": [
    "##### Free books"
   ]
  },
  {
   "cell_type": "code",
   "execution_count": 259,
   "metadata": {
    "scrolled": true
   },
   "outputs": [
    {
     "name": "stdout",
     "output_type": "stream",
     "text": [
      "12 books sold for free\n"
     ]
    },
    {
     "data": {
      "text/html": [
       "<div>\n",
       "<style scoped>\n",
       "    .dataframe tbody tr th:only-of-type {\n",
       "        vertical-align: middle;\n",
       "    }\n",
       "\n",
       "    .dataframe tbody tr th {\n",
       "        vertical-align: top;\n",
       "    }\n",
       "\n",
       "    .dataframe thead th {\n",
       "        text-align: right;\n",
       "    }\n",
       "</style>\n",
       "<table border=\"1\" class=\"dataframe\">\n",
       "  <thead>\n",
       "    <tr style=\"text-align: right;\">\n",
       "      <th></th>\n",
       "      <th>Name</th>\n",
       "      <th>Author</th>\n",
       "      <th>User Rating</th>\n",
       "      <th>Reviews</th>\n",
       "      <th>Price</th>\n",
       "      <th>Year</th>\n",
       "      <th>Genre</th>\n",
       "    </tr>\n",
       "  </thead>\n",
       "  <tbody>\n",
       "    <tr>\n",
       "      <th>42</th>\n",
       "      <td>Cabin Fever (Diary of a Wimpy Kid, Book 6)</td>\n",
       "      <td>Jeff Kinney</td>\n",
       "      <td>4.8</td>\n",
       "      <td>4505</td>\n",
       "      <td>0</td>\n",
       "      <td>2011</td>\n",
       "      <td>Fiction</td>\n",
       "    </tr>\n",
       "    <tr>\n",
       "      <th>71</th>\n",
       "      <td>Diary of a Wimpy Kid: Hard Luck, Book 8</td>\n",
       "      <td>Jeff Kinney</td>\n",
       "      <td>4.8</td>\n",
       "      <td>6812</td>\n",
       "      <td>0</td>\n",
       "      <td>2013</td>\n",
       "      <td>Fiction</td>\n",
       "    </tr>\n",
       "    <tr>\n",
       "      <th>116</th>\n",
       "      <td>Frozen (Little Golden Book)</td>\n",
       "      <td>RH Disney</td>\n",
       "      <td>4.7</td>\n",
       "      <td>3642</td>\n",
       "      <td>0</td>\n",
       "      <td>2014</td>\n",
       "      <td>Fiction</td>\n",
       "    </tr>\n",
       "    <tr>\n",
       "      <th>193</th>\n",
       "      <td>JOURNEY TO THE ICE P</td>\n",
       "      <td>RH Disney</td>\n",
       "      <td>4.6</td>\n",
       "      <td>978</td>\n",
       "      <td>0</td>\n",
       "      <td>2014</td>\n",
       "      <td>Fiction</td>\n",
       "    </tr>\n",
       "    <tr>\n",
       "      <th>219</th>\n",
       "      <td>Little Blue Truck</td>\n",
       "      <td>Alice Schertle</td>\n",
       "      <td>4.9</td>\n",
       "      <td>1884</td>\n",
       "      <td>0</td>\n",
       "      <td>2014</td>\n",
       "      <td>Fiction</td>\n",
       "    </tr>\n",
       "    <tr>\n",
       "      <th>358</th>\n",
       "      <td>The Constitution of the United States</td>\n",
       "      <td>Delegates of the Constitutional</td>\n",
       "      <td>4.8</td>\n",
       "      <td>2774</td>\n",
       "      <td>0</td>\n",
       "      <td>2016</td>\n",
       "      <td>Non Fiction</td>\n",
       "    </tr>\n",
       "    <tr>\n",
       "      <th>381</th>\n",
       "      <td>The Getaway</td>\n",
       "      <td>Jeff Kinney</td>\n",
       "      <td>4.8</td>\n",
       "      <td>5836</td>\n",
       "      <td>0</td>\n",
       "      <td>2017</td>\n",
       "      <td>Fiction</td>\n",
       "    </tr>\n",
       "    <tr>\n",
       "      <th>461</th>\n",
       "      <td>The Short Second Life of Bree Tanner: An Eclip...</td>\n",
       "      <td>Stephenie Meyer</td>\n",
       "      <td>4.6</td>\n",
       "      <td>2122</td>\n",
       "      <td>0</td>\n",
       "      <td>2010</td>\n",
       "      <td>Fiction</td>\n",
       "    </tr>\n",
       "    <tr>\n",
       "      <th>505</th>\n",
       "      <td>To Kill a Mockingbird</td>\n",
       "      <td>Harper Lee</td>\n",
       "      <td>4.8</td>\n",
       "      <td>26234</td>\n",
       "      <td>0</td>\n",
       "      <td>2013</td>\n",
       "      <td>Fiction</td>\n",
       "    </tr>\n",
       "    <tr>\n",
       "      <th>506</th>\n",
       "      <td>To Kill a Mockingbird</td>\n",
       "      <td>Harper Lee</td>\n",
       "      <td>4.8</td>\n",
       "      <td>26234</td>\n",
       "      <td>0</td>\n",
       "      <td>2014</td>\n",
       "      <td>Fiction</td>\n",
       "    </tr>\n",
       "    <tr>\n",
       "      <th>507</th>\n",
       "      <td>To Kill a Mockingbird</td>\n",
       "      <td>Harper Lee</td>\n",
       "      <td>4.8</td>\n",
       "      <td>26234</td>\n",
       "      <td>0</td>\n",
       "      <td>2015</td>\n",
       "      <td>Fiction</td>\n",
       "    </tr>\n",
       "    <tr>\n",
       "      <th>508</th>\n",
       "      <td>To Kill a Mockingbird</td>\n",
       "      <td>Harper Lee</td>\n",
       "      <td>4.8</td>\n",
       "      <td>26234</td>\n",
       "      <td>0</td>\n",
       "      <td>2016</td>\n",
       "      <td>Fiction</td>\n",
       "    </tr>\n",
       "  </tbody>\n",
       "</table>\n",
       "</div>"
      ],
      "text/plain": [
       "                                                  Name  \\\n",
       "42          Cabin Fever (Diary of a Wimpy Kid, Book 6)   \n",
       "71             Diary of a Wimpy Kid: Hard Luck, Book 8   \n",
       "116                        Frozen (Little Golden Book)   \n",
       "193                               JOURNEY TO THE ICE P   \n",
       "219                                  Little Blue Truck   \n",
       "358              The Constitution of the United States   \n",
       "381                                        The Getaway   \n",
       "461  The Short Second Life of Bree Tanner: An Eclip...   \n",
       "505                              To Kill a Mockingbird   \n",
       "506                              To Kill a Mockingbird   \n",
       "507                              To Kill a Mockingbird   \n",
       "508                              To Kill a Mockingbird   \n",
       "\n",
       "                               Author  User Rating  Reviews  Price  Year  \\\n",
       "42                        Jeff Kinney          4.8     4505      0  2011   \n",
       "71                        Jeff Kinney          4.8     6812      0  2013   \n",
       "116                         RH Disney          4.7     3642      0  2014   \n",
       "193                         RH Disney          4.6      978      0  2014   \n",
       "219                    Alice Schertle          4.9     1884      0  2014   \n",
       "358  Delegates of the Constitutional\n",
       "          4.8     2774      0  2016   \n",
       "381                       Jeff Kinney          4.8     5836      0  2017   \n",
       "461                   Stephenie Meyer          4.6     2122      0  2010   \n",
       "505                        Harper Lee          4.8    26234      0  2013   \n",
       "506                        Harper Lee          4.8    26234      0  2014   \n",
       "507                        Harper Lee          4.8    26234      0  2015   \n",
       "508                        Harper Lee          4.8    26234      0  2016   \n",
       "\n",
       "           Genre  \n",
       "42       Fiction  \n",
       "71       Fiction  \n",
       "116      Fiction  \n",
       "193      Fiction  \n",
       "219      Fiction  \n",
       "358  Non Fiction  \n",
       "381      Fiction  \n",
       "461      Fiction  \n",
       "505      Fiction  \n",
       "506      Fiction  \n",
       "507      Fiction  \n",
       "508      Fiction  "
      ]
     },
     "execution_count": 259,
     "metadata": {},
     "output_type": "execute_result"
    }
   ],
   "source": [
    "print(len(df.loc[df[\"Price\"]==0]), \"books sold for free\")\n",
    "df.loc[df[\"Price\"]==0]"
   ]
  },
  {
   "cell_type": "code",
   "execution_count": 260,
   "metadata": {},
   "outputs": [
    {
     "name": "stdout",
     "output_type": "stream",
     "text": [
      "1 book sold for 1 USD\n"
     ]
    },
    {
     "data": {
      "text/html": [
       "<div>\n",
       "<style scoped>\n",
       "    .dataframe tbody tr th:only-of-type {\n",
       "        vertical-align: middle;\n",
       "    }\n",
       "\n",
       "    .dataframe tbody tr th {\n",
       "        vertical-align: top;\n",
       "    }\n",
       "\n",
       "    .dataframe thead th {\n",
       "        text-align: right;\n",
       "    }\n",
       "</style>\n",
       "<table border=\"1\" class=\"dataframe\">\n",
       "  <thead>\n",
       "    <tr style=\"text-align: right;\">\n",
       "      <th></th>\n",
       "      <th>Name</th>\n",
       "      <th>Author</th>\n",
       "      <th>User Rating</th>\n",
       "      <th>Reviews</th>\n",
       "      <th>Price</th>\n",
       "      <th>Year</th>\n",
       "      <th>Genre</th>\n",
       "    </tr>\n",
       "  </thead>\n",
       "  <tbody>\n",
       "    <tr>\n",
       "      <th>91</th>\n",
       "      <td>Eat This Not That! Supermarket Survival Guide:...</td>\n",
       "      <td>David Zinczenko</td>\n",
       "      <td>4.5</td>\n",
       "      <td>720</td>\n",
       "      <td>1</td>\n",
       "      <td>2009</td>\n",
       "      <td>Non Fiction</td>\n",
       "    </tr>\n",
       "  </tbody>\n",
       "</table>\n",
       "</div>"
      ],
      "text/plain": [
       "                                                 Name           Author  \\\n",
       "91  Eat This Not That! Supermarket Survival Guide:...  David Zinczenko   \n",
       "\n",
       "    User Rating  Reviews  Price  Year        Genre  \n",
       "91          4.5      720      1  2009  Non Fiction  "
      ]
     },
     "execution_count": 260,
     "metadata": {},
     "output_type": "execute_result"
    }
   ],
   "source": [
    "print(len(df.loc[df[\"Price\"]==1]), \"book sold for 1 USD\")\n",
    "df.loc[df[\"Price\"]==1]"
   ]
  },
  {
   "cell_type": "markdown",
   "metadata": {},
   "source": [
    "##### Observations\n",
    "\n",
    "- Some books appear multiple years in a row (e.g., 'To Kill a Mockingbird')\n",
    "- A majority (75%) of inexpensive books are priced between 4 USD and 7 USD\n",
    "- A slight majority (56%) of inexpensive books are fiction"
   ]
  },
  {
   "cell_type": "markdown",
   "metadata": {},
   "source": [
    "### User Rating"
   ]
  },
  {
   "cell_type": "markdown",
   "metadata": {},
   "source": [
    "#### Bar graph"
   ]
  },
  {
   "cell_type": "code",
   "execution_count": 290,
   "metadata": {
    "scrolled": true
   },
   "outputs": [
    {
     "data": {
      "image/png": "[encoded data removed]",
      "text/plain": [
       "<Figure size 800x480 with 1 Axes>"
      ]
     },
     "metadata": {},
     "output_type": "display_data"
    }
   ],
   "source": [
    "plt.figure(figsize=(10, 6), dpi=80)\n",
    "sns.countplot(x='User Rating', data=df)\n",
    "\n",
    "plt.show()"
   ]
  },
  {
   "cell_type": "markdown",
   "metadata": {},
   "source": [
    "#### Summary Statistics"
   ]
  },
  {
   "cell_type": "code",
   "execution_count": 262,
   "metadata": {},
   "outputs": [
    {
     "data": {
      "text/plain": [
       "count    550.000000\n",
       "mean       4.618364\n",
       "std        0.226980\n",
       "min        3.300000\n",
       "25%        4.500000\n",
       "50%        4.700000\n",
       "75%        4.800000\n",
       "max        4.900000\n",
       "Name: User Rating, dtype: float64"
      ]
     },
     "execution_count": 262,
     "metadata": {},
     "output_type": "execute_result"
    }
   ],
   "source": [
    "df['User Rating'].describe()"
   ]
  },
  {
   "cell_type": "markdown",
   "metadata": {},
   "source": [
    "#### Box plot"
   ]
  },
  {
   "cell_type": "code",
   "execution_count": 264,
   "metadata": {},
   "outputs": [
    {
     "data": {
      "image/png": "[encoded data removed]",
      "text/plain": [
       "<Figure size 640x480 with 1 Axes>"
      ]
     },
     "metadata": {},
     "output_type": "display_data"
    }
   ],
   "source": [
    "plt.boxplot(df['User Rating'])\n",
    "plt.title('Box Plot of User Rating')\n",
    "plt.xlabel('User Rating')\n",
    "plt.ylabel('Count')\n",
    "plt.show()"
   ]
  },
  {
   "cell_type": "markdown",
   "metadata": {},
   "source": [
    "#### Highest Rated Books\n",
    "\n",
    "For our purposes, we will define the highest rated books as any books that have a 'User Rating' of 4.9 since most books (75%) have a rating below value. "
   ]
  },
  {
   "cell_type": "code",
   "execution_count": 287,
   "metadata": {},
   "outputs": [
    {
     "name": "stdout",
     "output_type": "stream",
     "text": [
      "Oh, the Places You'll Go!\n",
      "The Very Hungry Caterpillar\n",
      "Jesus Calling: Enjoying Peace in His Presence (with Scripture References)\n",
      "The Wonderful Things You Will Be\n",
      "Goodnight, Goodnight Construction Site (Hardcover Books for Toddlers, Preschool Books for Kids)\n",
      "Brown Bear, Brown Bear, What Do You See?\n",
      "Dog Man: Brawl of the Wild: From the Creator of Captain Underpants (Dog Man #6)\n",
      "Dog Man: Lord of the Fleas: From the Creator of Captain Underpants (Dog Man #5)\n",
      "Dog Man: For Whom the Ball Rolls: From the Creator of Captain Underpants (Dog Man #7)\n",
      "Unfreedom of the Press\n",
      "Dog Man: A Tale of Two Kitties: From the Creator of Captain Underpants (Dog Man #3)\n",
      "The Magnolia Story\n",
      "The Legend of Zelda: Hyrule Historia\n",
      "Strange Planet (Strange Planet Series)\n",
      "Rush Revere and the First Patriots: Time-Travel Adventures With Exceptional Americans (2)\n",
      "Rush Revere and the Brave Pilgrims: Time-Travel Adventures with Exceptional Americans (1)\n",
      "Dog Man: Fetch-22: From the Creator of Captain Underpants (Dog Man #8)\n",
      "Obama: An Intimate Portrait\n",
      "Little Blue Truck\n",
      "Last Week Tonight with John Oliver Presents A Day in the Life of Marlon Bundo (Better Bundo Book, LGBT Childrens Book)\n",
      "Dog Man and Cat Kid: From the Creator of Captain Underpants (Dog Man #4)\n",
      "Humans of New York : Stories\n",
      "Harry Potter and the Sorcerer's Stone: The Illustrated Edition (Harry Potter, Book 1)\n",
      "Harry Potter and the Prisoner of Azkaban: The Illustrated Edition (Harry Potter, Book 3)\n",
      "Harry Potter and the Goblet of Fire: The Illustrated Edition (Harry Potter, Book 4) (4)\n",
      "Harry Potter and the Chamber of Secrets: The Illustrated Edition (Harry Potter, Book 2)\n",
      "Hamilton: The Revolution\n",
      "Wrecking Ball (Diary of a Wimpy Kid Book 14)\n"
     ]
    }
   ],
   "source": [
    "highest_rated_books = df.loc[df['User Rating']==4.9]\n",
    "list_of_highest_rated_books = highest_rated_books['Name'].value_counts().index.tolist()\n",
    "\n",
    "for book in list_of_highest_rated_books:\n",
    "    print(book)"
   ]
  },
  {
   "cell_type": "markdown",
   "metadata": {},
   "source": [
    "**Observations**\n",
    "\n",
    "- 50% of User Rating are between 4.5 and 4.8\n",
    "- Outliers are less than 4.1"
   ]
  },
  {
   "cell_type": "markdown",
   "metadata": {},
   "source": [
    "### Reviews"
   ]
  },
  {
   "cell_type": "code",
   "execution_count": 312,
   "metadata": {},
   "outputs": [
    {
     "data": {
      "image/png": "[encoded data removed]",
      "text/plain": [
       "<Figure size 800x480 with 1 Axes>"
      ]
     },
     "metadata": {},
     "output_type": "display_data"
    }
   ],
   "source": [
    "# create series for value counts\n",
    "review_counts = df['Reviews'].value_counts()\n",
    "\n",
    "# convert series to data frame\n",
    "review_counts_df = pd.DataFrame({'num_reviews': review_counts.index, 'num_books': review_counts.values})\n",
    "\n",
    "# create histogram of reviews\n",
    "plt.figure(figsize=(10,6), dpi=80)\n",
    "sns.histplot(data=review_counts_df['num_reviews'], bins='auto', binwidth=2000)\n",
    "plt.title('Reviews')\n",
    "plt.xlabel('Amount of Reviews')\n",
    "plt.ylabel('Number of Books')\n",
    "\n",
    "plt.show()"
   ]
  },
  {
   "cell_type": "code",
   "execution_count": 311,
   "metadata": {},
   "outputs": [
    {
     "data": {
      "text/plain": [
       "count      346.000000\n",
       "mean      9786.430636\n",
       "std      10871.900146\n",
       "min         37.000000\n",
       "25%       3362.750000\n",
       "50%       6361.500000\n",
       "75%      11510.250000\n",
       "max      87841.000000\n",
       "Name: num_reviews, dtype: float64"
      ]
     },
     "execution_count": 311,
     "metadata": {},
     "output_type": "execute_result"
    }
   ],
   "source": [
    "review_counts_df['num_reviews'].describe()"
   ]
  },
  {
   "cell_type": "markdown",
   "metadata": {},
   "source": [
    "#### Books with Most Number of Reviews\n",
    "\n",
    "Since 75% of books have fewer than 11,510 reviews, we will define highly reviewed books as books that have more than 11,510 reviews. "
   ]
  },
  {
   "cell_type": "code",
   "execution_count": 321,
   "metadata": {},
   "outputs": [
    {
     "name": "stdout",
     "output_type": "stream",
     "text": [
      "88 book have greater than 11,510 reviews\n",
      "Oh, the Places You'll Go!\n",
      "The Very Hungry Caterpillar\n",
      "The Four Agreements: A Practical Guide to Personal Freedom (A Toltec Wisdom Book)\n",
      "Jesus Calling: Enjoying Peace in His Presence (with Scripture References)\n",
      "First 100 Words\n",
      "Wonder\n",
      "Unbroken: A World War II Story of Survival, Resilience, and Redemption\n",
      "To Kill a Mockingbird\n",
      "The 5 Love Languages: The Secret to Love that Lasts\n",
      "How to Win Friends & Influence People\n",
      "Giraffes Can't Dance\n",
      "The Life-Changing Magic of Tidying Up: The Japanese Art of Decluttering and Organizing\n",
      "The Help\n",
      "The Fault in Our Stars\n",
      "You Are a Badass: How to Stop Doubting Your Greatness and Start Living an Awesome Life\n",
      "The Great Gatsby\n",
      "Catching Fire (The Hunger Games)\n",
      "Mockingjay (The Hunger Games)\n",
      "The Subtle Art of Not Giving a F*ck: A Counterintuitive Approach to Living a Good Life\n",
      "Player's Handbook (Dungeons & Dragons)\n",
      "Gone Girl\n",
      "Milk and Honey\n",
      "The Book Thief\n",
      "The Art of Racing in the Rain: A Novel\n",
      "The Hunger Games (Book 1)\n",
      "The Boys in the Boat: Nine Americans and Their Epic Quest for Gold at the 1936 Berlin Olympics\n",
      "Love You Forever\n",
      "The Hunger Games Trilogy Boxed Set (1)\n",
      "The Complete Ketogenic Diet for Beginners: Your Essential Guide to Living the Keto Lifestyle\n",
      "School Zone - Big Preschool Workbook - Ages 4 and Up, Colors, Shapes, Numbers 1-10, Alphabet, Pre-Writing, Pre-Reading…\n",
      "Ready Player One: A Novel\n",
      "Proof of Heaven: A Neurosurgeon's Journey into the Afterlife\n",
      "All the Light We Cannot See\n",
      "A Man Called Ove: A Novel\n",
      "The Nightingale: A Novel\n",
      "The Girl on the Train\n",
      "The Goldfinch: A Novel (Pulitzer Prize for Fiction)\n",
      "Becoming\n",
      "The Shack: Where Tragedy Confronts Eternity\n",
      "Brown Bear, Brown Bear, What Do You See?\n",
      "If Animals Kissed Good Night\n",
      "Hillbilly Elegy: A Memoir of a Family and Culture in Crisis\n",
      "Educated: A Memoir\n",
      "Heaven is for Real: A Little Boy's Astounding Story of His Trip to Heaven and Back\n",
      "The Wonky Donkey\n",
      "Fifty Shades of Grey: Book One of the Fifty Shades Trilogy (Fifty Shades of Grey Series)\n",
      "Girl, Wash Your Face: Stop Believing the Lies About Who You Are So You Can Become Who You Were Meant to Be\n",
      "Divergent\n",
      "The Guardians: A Novel\n",
      "The Hunger Games\n",
      "1984 (Signet Classics)\n",
      "The Handmaid's Tale\n",
      "Wild: From Lost to Found on the Pacific Crest Trail\n",
      "Where the Crawdads Sing\n",
      "When Breath Becomes Air\n",
      "Twilight (The Twilight Saga, Book 1)\n",
      "A Dance with Dragons (A Song of Ice and Fire)\n",
      "The Racketeer\n",
      "A Game of Thrones / A Clash of Kings / A Storm of Swords / A Feast of Crows / A Dance with Dragons\n",
      "A Gentleman in Moscow: A Novel\n",
      "The Total Money Makeover: Classic Edition: A Proven Plan for Financial Fitness\n",
      "The Martian\n",
      "The Silent Patient\n",
      "Divergent / Insurgent\n",
      "Sycamore Row (Jake Brigance)\n",
      "American Sniper: The Autobiography of the Most Lethal Sniper in U.S. Military History\n",
      "Harry Potter Paperback Box Set (Books 1-7)\n",
      "Dog Man: Fetch-22: From the Creator of Captain Underpants (Dog Man #8)\n",
      "Fifty Shades Darker\n",
      "Fifty Shades Freed: Book Three of the Fifty Shades Trilogy (Fifty Shades of Grey Series) (English Edition)\n",
      "Fifty Shades Trilogy (Fifty Shades of Grey / Fifty Shades Darker / Fifty Shades Freed)\n",
      "Fire and Fury: Inside the Trump White House\n",
      "Go Set a Watchman: A Novel\n",
      "Grey: Fifty Shades of Grey as Told by Christian (Fifty Shades of Grey Series)\n",
      "Harry Potter and the Chamber of Secrets: The Illustrated Edition (Harry Potter, Book 2)\n",
      "Harry Potter and the Cursed Child, Parts 1 & 2, Special Rehearsal Edition Script\n",
      "Can't Hurt Me: Master Your Mind and Defy the Odds\n",
      "And the Mountains Echoed\n",
      "Inferno\n",
      "Last Week Tonight with John Oliver Presents A Day in the Life of Marlon Bundo (Better Bundo Book, LGBT Childrens Book)\n",
      "Little Fires Everywhere\n",
      "12 Rules for Life: An Antidote to Chaos\n",
      "Origin: A Novel (Robert Langdon)\n",
      "Orphan Train\n",
      "Doctor Sleep: A Novel\n",
      "The Alchemist\n",
      "The Body Keeps the Score: Brain, Mind, and Body in the Healing of Trauma\n",
      "10-Day Green Smoothie Cleanse\n"
     ]
    }
   ],
   "source": [
    "highest_reviews = df.loc[df['Reviews']>11510]\n",
    "list_of_highest_reviews = highest_reviews['Name'].value_counts().index.tolist()\n",
    "\n",
    "print(len(list_of_highest_reviews), 'book have greater than 11,510 reviews')\n",
    "\n",
    "for book in list_of_highest_reviews:\n",
    "    print(book)\n"
   ]
  },
  {
   "cell_type": "markdown",
   "metadata": {},
   "source": [
    "##### Top 10 Highly Reviwed Books"
   ]
  },
  {
   "cell_type": "code",
   "execution_count": 335,
   "metadata": {},
   "outputs": [
    {
     "name": "stdout",
     "output_type": "stream",
     "text": [
      "Oh, the Places You'll Go!\n",
      "The Very Hungry Caterpillar\n",
      "Jesus Calling: Enjoying Peace in His Presence (with Scripture References)\n",
      "The Four Agreements: A Practical Guide to Personal Freedom (A Toltec Wisdom Book)\n",
      "How to Win Friends & Influence People\n",
      "The 5 Love Languages: The Secret to Love that Lasts\n",
      "Wonder\n",
      "First 100 Words\n",
      "To Kill a Mockingbird\n",
      "Giraffes Can't Dance\n"
     ]
    }
   ],
   "source": [
    "highest_reviews_sorted = highest_reviews.sort_values(by='Reviews', ascending=False)\n",
    "list_of_top_10_highest_reviews = highest_reviews_sorted['Name'].value_counts().head(10).index.tolist()\n",
    "\n",
    "for book in list_of_top_10_highest_reviews:\n",
    "    print(book)"
   ]
  },
  {
   "cell_type": "markdown",
   "metadata": {},
   "source": [
    "**Observations**\n",
    "\n",
    "Most books (75%) have fewer than 12,000 reviews. "
   ]
  },
  {
   "cell_type": "markdown",
   "metadata": {},
   "source": [
    "### Author\n",
    "\n",
    "Let's investigate how many times an author published between 2009-2019 and which authors published the most during this time period. \n"
   ]
  },
  {
   "cell_type": "code",
   "execution_count": 265,
   "metadata": {
    "scrolled": true
   },
   "outputs": [
    {
     "name": "stdout",
     "output_type": "stream",
     "text": [
      "Jeff Kinney                           12\n",
      "Gary Chapman                          11\n",
      "Rick Riordan                          11\n",
      "Suzanne Collins                       11\n",
      "American Psychological Association    10\n",
      "                                      ..\n",
      "Keith Richards                         1\n",
      "Chris Cleave                           1\n",
      "Alice Schertle                         1\n",
      "Celeste Ng                             1\n",
      "Adam Gasiewski                         1\n",
      "Name: Author, Length: 248, dtype: int64\n"
     ]
    }
   ],
   "source": [
    "author_counts = df[\"Author\"].value_counts()\n",
    "print(author_counts)"
   ]
  },
  {
   "cell_type": "markdown",
   "metadata": {},
   "source": [
    "#### Summary Statistics"
   ]
  },
  {
   "cell_type": "code",
   "execution_count": 266,
   "metadata": {},
   "outputs": [
    {
     "data": {
      "text/plain": [
       "count    248.000000\n",
       "mean       2.217742\n",
       "std        2.046268\n",
       "min        1.000000\n",
       "25%        1.000000\n",
       "50%        1.000000\n",
       "75%        2.000000\n",
       "max       12.000000\n",
       "Name: Author, dtype: float64"
      ]
     },
     "execution_count": 266,
     "metadata": {},
     "output_type": "execute_result"
    }
   ],
   "source": [
    "author_counts.describe()"
   ]
  },
  {
   "cell_type": "markdown",
   "metadata": {},
   "source": [
    "**Observations**\n",
    "\n",
    "- 75% of the authors on the list published *only twice* over the 10-year period of 2009-2019\n",
    "- 25% of the authors published *more than twice*"
   ]
  },
  {
   "cell_type": "markdown",
   "metadata": {},
   "source": [
    "#### Box plot\n",
    "\n",
    "In this box plot, we can see how many times a bestselling author published a book between 2009 and 2019. "
   ]
  },
  {
   "cell_type": "code",
   "execution_count": 267,
   "metadata": {},
   "outputs": [
    {
     "data": {
      "image/png": "[encoded data removed]",
      "text/plain": [
       "<Figure size 640x480 with 1 Axes>"
      ]
     },
     "metadata": {},
     "output_type": "display_data"
    }
   ],
   "source": [
    "plt.boxplot(author_counts)\n",
    "plt.title('Publishing Frequency of Authors')\n",
    "plt.xlabel('Author')\n",
    "plt.ylabel('Number of Published Entries')\n",
    "\n",
    "plt.show()"
   ]
  },
  {
   "cell_type": "markdown",
   "metadata": {},
   "source": [
    "#### Most Frequent Authors\n",
    "\n",
    "For our purposes, we will define the most frequent authors as those who published more than twice. "
   ]
  },
  {
   "cell_type": "code",
   "execution_count": 268,
   "metadata": {},
   "outputs": [
    {
     "name": "stdout",
     "output_type": "stream",
     "text": [
      "58 authors published more than two books from 2009-2019\n",
      "Jeff Kinney                           12\n",
      "Gary Chapman                          11\n",
      "Rick Riordan                          11\n",
      "Suzanne Collins                       11\n",
      "American Psychological Association    10\n",
      "Dr. Seuss                              9\n",
      "Gallup                                 9\n",
      "Rob Elliott                            8\n",
      "Stephen R. Covey                       7\n",
      "Stephenie Meyer                        7\n",
      "Dav Pilkey                             7\n",
      "Bill O'Reilly                          7\n",
      "Eric Carle                             7\n",
      "The College Board                      6\n",
      "E L James                              6\n",
      "Don Miguel Ruiz                        6\n",
      "J.K. Rowling                           6\n",
      "Stieg Larsson                          6\n",
      "Sarah Young                            6\n",
      "Harper Lee                             6\n",
      "Laura Hillenbrand                      5\n",
      "R. J. Palacio                          5\n",
      "Dale Carnegie                          5\n",
      "Patrick Lencioni                       5\n",
      "Giles Andreae                          5\n",
      "Roger Priddy                           5\n",
      "John Green                             5\n",
      "John Grisham                           5\n",
      "Marie Kondō                            4\n",
      "Rupi Kaur                              4\n",
      "Rod Campbell                           4\n",
      "Charlaine Harris                       4\n",
      "Jim Collins                            4\n",
      "Kathryn Stockett                       4\n",
      "Emily Winfield Martin                  4\n",
      "Stephen King                           4\n",
      "Jen Sincero                            4\n",
      "Malcolm Gladwell                       4\n",
      "Thug Kitchen                           4\n",
      "Veronica Roth                          4\n",
      "Glenn Beck                             3\n",
      "Drew Daywalt                           3\n",
      "Rachel Hollis                          3\n",
      "Walter Isaacson                        3\n",
      "Gillian Flynn                          3\n",
      "Dan Brown                              3\n",
      "Rebecca Skloot                         3\n",
      "Melissa Hartwig Urban                  3\n",
      "Mark Manson                            3\n",
      "Margaret Wise Brown                    3\n",
      "George R.R. Martin                     3\n",
      "F. Scott Fitzgerald                    3\n",
      "Wizards RPG Team                       3\n",
      "Ina Garten                             3\n",
      "Brandon Stanton                        3\n",
      "Ree Drummond                           3\n",
      "Carol S. Dweck                         3\n",
      "Francis Chan                           3\n",
      "Name: Author, dtype: int64\n"
     ]
    }
   ],
   "source": [
    "mask_authors = author_counts>2\n",
    "authors_most_frequent = author_counts[mask_authors]\n",
    "\n",
    "print(len(authors_most_frequent), 'authors published more than two books from 2009-2019')\n",
    "print(authors_most_frequent)"
   ]
  },
  {
   "cell_type": "code",
   "execution_count": 269,
   "metadata": {},
   "outputs": [
    {
     "data": {
      "image/png": "[encoded data removed]",
      "text/plain": [
       "<Figure size 640x480 with 1 Axes>"
      ]
     },
     "metadata": {},
     "output_type": "display_data"
    }
   ],
   "source": [
    "plt.figure(figsize=(8, 6), dpi=80)\n",
    "sns.histplot(data=authors_most_frequent, bins='auto', binwidth=1)\n",
    "\n",
    "plt.title('Most Frequent Authors')\n",
    "plt.xlabel('Number of Times Published')\n",
    "plt.ylabel('Number of Authors')\n",
    "\n",
    "plt.show()"
   ]
  },
  {
   "cell_type": "markdown",
   "metadata": {},
   "source": [
    "#### Top 10 Authors"
   ]
  },
  {
   "cell_type": "code",
   "execution_count": 270,
   "metadata": {},
   "outputs": [
    {
     "name": "stdout",
     "output_type": "stream",
     "text": [
      "Jeff Kinney                           12\n",
      "Gary Chapman                          11\n",
      "Rick Riordan                          11\n",
      "Suzanne Collins                       11\n",
      "American Psychological Association    10\n",
      "Dr. Seuss                              9\n",
      "Gallup                                 9\n",
      "Rob Elliott                            8\n",
      "Stephen R. Covey                       7\n",
      "Stephenie Meyer                        7\n",
      "Name: Author, dtype: int64\n"
     ]
    }
   ],
   "source": [
    "top_ten_authors = authors_most_frequent.head(10)\n",
    "print(top_ten_authors)"
   ]
  },
  {
   "cell_type": "markdown",
   "metadata": {},
   "source": [
    "##### Bar plot"
   ]
  },
  {
   "cell_type": "code",
   "execution_count": 275,
   "metadata": {},
   "outputs": [
    {
     "data": {
      "image/png": "[encoded data removed]",
      "text/plain": [
       "<Figure size 1000x800 with 1 Axes>"
      ]
     },
     "metadata": {},
     "output_type": "display_data"
    }
   ],
   "source": [
    "# convert series to data frame\n",
    "top_ten_authors_df = pd.DataFrame({'Author': top_ten_authors.index, 'Count': top_ten_authors.values})\n",
    "\n",
    "# create bar plot of data frame\n",
    "plt.figure(figsize=(10,8))\n",
    "sns.barplot(data=top_ten_authors_df, x='Author', y='Count')\n",
    "plt.title('Top 10 Authors')\n",
    "plt.xlabel('Author')\n",
    "plt.xticks(rotation=90)\n",
    "plt.ylabel('Count')\n",
    "\n",
    "plt.show()"
   ]
  },
  {
   "cell_type": "code",
   "execution_count": 184,
   "metadata": {},
   "outputs": [
    {
     "data": {
      "text/html": [
       "<div>\n",
       "<style scoped>\n",
       "    .dataframe tbody tr th:only-of-type {\n",
       "        vertical-align: middle;\n",
       "    }\n",
       "\n",
       "    .dataframe tbody tr th {\n",
       "        vertical-align: top;\n",
       "    }\n",
       "\n",
       "    .dataframe thead th {\n",
       "        text-align: right;\n",
       "    }\n",
       "</style>\n",
       "<table border=\"1\" class=\"dataframe\">\n",
       "  <thead>\n",
       "    <tr style=\"text-align: right;\">\n",
       "      <th></th>\n",
       "      <th>Name</th>\n",
       "      <th>Author</th>\n",
       "      <th>User Rating</th>\n",
       "      <th>Reviews</th>\n",
       "      <th>Price</th>\n",
       "      <th>Year</th>\n",
       "      <th>Genre</th>\n",
       "    </tr>\n",
       "  </thead>\n",
       "  <tbody>\n",
       "    <tr>\n",
       "      <th>38</th>\n",
       "      <td>Breaking Dawn (The Twilight Saga, Book 4)</td>\n",
       "      <td>Stephenie Meyer</td>\n",
       "      <td>4.6</td>\n",
       "      <td>9769</td>\n",
       "      <td>13</td>\n",
       "      <td>2009</td>\n",
       "      <td>Fiction</td>\n",
       "    </tr>\n",
       "    <tr>\n",
       "      <th>42</th>\n",
       "      <td>Cabin Fever (Diary of a Wimpy Kid, Book 6)</td>\n",
       "      <td>Jeff Kinney</td>\n",
       "      <td>4.8</td>\n",
       "      <td>4505</td>\n",
       "      <td>0</td>\n",
       "      <td>2011</td>\n",
       "      <td>Fiction</td>\n",
       "    </tr>\n",
       "    <tr>\n",
       "      <th>46</th>\n",
       "      <td>Catching Fire (The Hunger Games)</td>\n",
       "      <td>Suzanne Collins</td>\n",
       "      <td>4.7</td>\n",
       "      <td>22614</td>\n",
       "      <td>11</td>\n",
       "      <td>2010</td>\n",
       "      <td>Fiction</td>\n",
       "    </tr>\n",
       "    <tr>\n",
       "      <th>47</th>\n",
       "      <td>Catching Fire (The Hunger Games)</td>\n",
       "      <td>Suzanne Collins</td>\n",
       "      <td>4.7</td>\n",
       "      <td>22614</td>\n",
       "      <td>11</td>\n",
       "      <td>2011</td>\n",
       "      <td>Fiction</td>\n",
       "    </tr>\n",
       "    <tr>\n",
       "      <th>48</th>\n",
       "      <td>Catching Fire (The Hunger Games)</td>\n",
       "      <td>Suzanne Collins</td>\n",
       "      <td>4.7</td>\n",
       "      <td>22614</td>\n",
       "      <td>11</td>\n",
       "      <td>2012</td>\n",
       "      <td>Fiction</td>\n",
       "    </tr>\n",
       "    <tr>\n",
       "      <th>...</th>\n",
       "      <td>...</td>\n",
       "      <td>...</td>\n",
       "      <td>...</td>\n",
       "      <td>...</td>\n",
       "      <td>...</td>\n",
       "      <td>...</td>\n",
       "      <td>...</td>\n",
       "    </tr>\n",
       "    <tr>\n",
       "      <th>473</th>\n",
       "      <td>The Twilight Saga Collection</td>\n",
       "      <td>Stephenie Meyer</td>\n",
       "      <td>4.7</td>\n",
       "      <td>3801</td>\n",
       "      <td>82</td>\n",
       "      <td>2009</td>\n",
       "      <td>Fiction</td>\n",
       "    </tr>\n",
       "    <tr>\n",
       "      <th>474</th>\n",
       "      <td>The Ugly Truth (Diary of a Wimpy Kid, Book 5)</td>\n",
       "      <td>Jeff Kinney</td>\n",
       "      <td>4.8</td>\n",
       "      <td>3796</td>\n",
       "      <td>12</td>\n",
       "      <td>2010</td>\n",
       "      <td>Fiction</td>\n",
       "    </tr>\n",
       "    <tr>\n",
       "      <th>513</th>\n",
       "      <td>Twilight (The Twilight Saga, Book 1)</td>\n",
       "      <td>Stephenie Meyer</td>\n",
       "      <td>4.7</td>\n",
       "      <td>11676</td>\n",
       "      <td>9</td>\n",
       "      <td>2009</td>\n",
       "      <td>Fiction</td>\n",
       "    </tr>\n",
       "    <tr>\n",
       "      <th>528</th>\n",
       "      <td>What Pet Should I Get? (Classic Seuss)</td>\n",
       "      <td>Dr. Seuss</td>\n",
       "      <td>4.7</td>\n",
       "      <td>1873</td>\n",
       "      <td>14</td>\n",
       "      <td>2015</td>\n",
       "      <td>Fiction</td>\n",
       "    </tr>\n",
       "    <tr>\n",
       "      <th>545</th>\n",
       "      <td>Wrecking Ball (Diary of a Wimpy Kid Book 14)</td>\n",
       "      <td>Jeff Kinney</td>\n",
       "      <td>4.9</td>\n",
       "      <td>9413</td>\n",
       "      <td>8</td>\n",
       "      <td>2019</td>\n",
       "      <td>Fiction</td>\n",
       "    </tr>\n",
       "  </tbody>\n",
       "</table>\n",
       "<p>95 rows × 7 columns</p>\n",
       "</div>"
      ],
      "text/plain": [
       "                                              Name           Author  \\\n",
       "38       Breaking Dawn (The Twilight Saga, Book 4)  Stephenie Meyer   \n",
       "42      Cabin Fever (Diary of a Wimpy Kid, Book 6)      Jeff Kinney   \n",
       "46                Catching Fire (The Hunger Games)  Suzanne Collins   \n",
       "47                Catching Fire (The Hunger Games)  Suzanne Collins   \n",
       "48                Catching Fire (The Hunger Games)  Suzanne Collins   \n",
       "..                                             ...              ...   \n",
       "473                   The Twilight Saga Collection  Stephenie Meyer   \n",
       "474  The Ugly Truth (Diary of a Wimpy Kid, Book 5)      Jeff Kinney   \n",
       "513           Twilight (The Twilight Saga, Book 1)  Stephenie Meyer   \n",
       "528         What Pet Should I Get? (Classic Seuss)        Dr. Seuss   \n",
       "545   Wrecking Ball (Diary of a Wimpy Kid Book 14)      Jeff Kinney   \n",
       "\n",
       "     User Rating  Reviews  Price  Year    Genre  \n",
       "38           4.6     9769     13  2009  Fiction  \n",
       "42           4.8     4505      0  2011  Fiction  \n",
       "46           4.7    22614     11  2010  Fiction  \n",
       "47           4.7    22614     11  2011  Fiction  \n",
       "48           4.7    22614     11  2012  Fiction  \n",
       "..           ...      ...    ...   ...      ...  \n",
       "473          4.7     3801     82  2009  Fiction  \n",
       "474          4.8     3796     12  2010  Fiction  \n",
       "513          4.7    11676      9  2009  Fiction  \n",
       "528          4.7     1873     14  2015  Fiction  \n",
       "545          4.9     9413      8  2019  Fiction  \n",
       "\n",
       "[95 rows x 7 columns]"
      ]
     },
     "execution_count": 184,
     "metadata": {},
     "output_type": "execute_result"
    }
   ],
   "source": [
    "list_of_top_ten_authors = top_ten_authors.index.tolist()\n",
    "\n",
    "df_top_10_authors = df[df['Author'].isin(list_of_top_ten_authors)]\n",
    "\n",
    "df_top_10_authors\n"
   ]
  },
  {
   "cell_type": "code",
   "execution_count": 205,
   "metadata": {},
   "outputs": [
    {
     "data": {
      "text/plain": [
       "Publication Manual of the American Psychological Association, 6th Edition       10\n",
       "StrengthsFinder 2.0                                                              9\n",
       "Oh, the Places You'll Go!                                                        8\n",
       "The 7 Habits of Highly Effective People: Powerful Lessons in Personal Change     7\n",
       "The 5 Love Languages: The Secret to Love that Lasts                              5\n",
       "The 5 Love Languages: The Secret to Love That Lasts                              5\n",
       "Laugh-Out-Loud Jokes for Kids                                                    5\n",
       "Catching Fire (The Hunger Games)                                                 3\n",
       "Knock-Knock Jokes for Kids                                                       3\n",
       "Mockingjay (The Hunger Games)                                                    3\n",
       "The Hunger Games Trilogy Boxed Set (1)                                           2\n",
       "The Last Olympian (Percy Jackson and the Olympians, Book 5)                      2\n",
       "The Hunger Games (Book 1)                                                        2\n",
       "The Lost Hero (Heroes of Olympus, Book 1)                                        1\n",
       "The Mark of Athena (Heroes of Olympus, Book 3)                                   1\n",
       "The Meltdown (Diary of a Wimpy Kid Book 13)                                      1\n",
       "Breaking Dawn (The Twilight Saga, Book 4)                                        1\n",
       "The Red Pyramid (The Kane Chronicles, Book 1)                                    1\n",
       "The Serpent's Shadow (The Kane Chronicles, Book 3)                               1\n",
       "The Son of Neptune (Heroes of Olympus, Book 2)                                   1\n",
       "The Third Wheel (Diary of a Wimpy Kid, Book 7)                                   1\n",
       "The Throne of Fire (The Kane Chronicles, Book 2)                                 1\n",
       "The Twilight Saga Collection                                                     1\n",
       "The Ugly Truth (Diary of a Wimpy Kid, Book 5)                                    1\n",
       "Twilight (The Twilight Saga, Book 1)                                             1\n",
       "What Pet Should I Get? (Classic Seuss)                                           1\n",
       "The Short Second Life of Bree Tanner: An Eclipse Novella (The Twilight Saga)     1\n",
       "The Blood of Olympus (The Heroes of Olympus (5))                                 1\n",
       "The Hunger Games                                                                 1\n",
       "The House of Hades (Heroes of Olympus, Book 4)                                   1\n",
       "The Getaway                                                                      1\n",
       "The Five Love Languages: How to Express Heartfelt Commitment to Your Mate        1\n",
       "Cabin Fever (Diary of a Wimpy Kid, Book 6)                                       1\n",
       "Percy Jackson and the Olympians Paperback Boxed Set (Books 1-3)                  1\n",
       "Old School (Diary of a Wimpy Kid #10)                                            1\n",
       "New Moon (The Twilight Saga)                                                     1\n",
       "Eclipse (Twilight)                                                               1\n",
       "Eclipse (Twilight Sagas)                                                         1\n",
       "Double Down (Diary of a Wimpy Kid #11)                                           1\n",
       "Dog Days (Diary of a Wimpy Kid, Book 4) (Volume 4)                               1\n",
       "Diary of a Wimpy Kid: The Long Haul                                              1\n",
       "Diary of a Wimpy Kid: The Last Straw (Book 3)                                    1\n",
       "Diary of a Wimpy Kid: Hard Luck, Book 8                                          1\n",
       "Wrecking Ball (Diary of a Wimpy Kid Book 14)                                     1\n",
       "Name: Name, dtype: int64"
      ]
     },
     "execution_count": 205,
     "metadata": {},
     "output_type": "execute_result"
    }
   ],
   "source": [
    "# book titles for top 10 authors\n",
    "df_top_10_authors['Name'].value_counts()"
   ]
  },
  {
   "cell_type": "markdown",
   "metadata": {},
   "source": [
    "##### Top Author: Jeff Kinney"
   ]
  },
  {
   "cell_type": "code",
   "execution_count": 131,
   "metadata": {},
   "outputs": [
    {
     "data": {
      "text/html": [
       "<div>\n",
       "<style scoped>\n",
       "    .dataframe tbody tr th:only-of-type {\n",
       "        vertical-align: middle;\n",
       "    }\n",
       "\n",
       "    .dataframe tbody tr th {\n",
       "        vertical-align: top;\n",
       "    }\n",
       "\n",
       "    .dataframe thead th {\n",
       "        text-align: right;\n",
       "    }\n",
       "</style>\n",
       "<table border=\"1\" class=\"dataframe\">\n",
       "  <thead>\n",
       "    <tr style=\"text-align: right;\">\n",
       "      <th></th>\n",
       "      <th>Name</th>\n",
       "      <th>Author</th>\n",
       "      <th>User Rating</th>\n",
       "      <th>Reviews</th>\n",
       "      <th>Price</th>\n",
       "      <th>Year</th>\n",
       "      <th>Genre</th>\n",
       "    </tr>\n",
       "  </thead>\n",
       "  <tbody>\n",
       "    <tr>\n",
       "      <th>42</th>\n",
       "      <td>Cabin Fever (Diary of a Wimpy Kid, Book 6)</td>\n",
       "      <td>Jeff Kinney</td>\n",
       "      <td>4.8</td>\n",
       "      <td>4505</td>\n",
       "      <td>0</td>\n",
       "      <td>2011</td>\n",
       "      <td>Fiction</td>\n",
       "    </tr>\n",
       "    <tr>\n",
       "      <th>71</th>\n",
       "      <td>Diary of a Wimpy Kid: Hard Luck, Book 8</td>\n",
       "      <td>Jeff Kinney</td>\n",
       "      <td>4.8</td>\n",
       "      <td>6812</td>\n",
       "      <td>0</td>\n",
       "      <td>2013</td>\n",
       "      <td>Fiction</td>\n",
       "    </tr>\n",
       "    <tr>\n",
       "      <th>72</th>\n",
       "      <td>Diary of a Wimpy Kid: The Last Straw (Book 3)</td>\n",
       "      <td>Jeff Kinney</td>\n",
       "      <td>4.8</td>\n",
       "      <td>3837</td>\n",
       "      <td>15</td>\n",
       "      <td>2009</td>\n",
       "      <td>Fiction</td>\n",
       "    </tr>\n",
       "    <tr>\n",
       "      <th>73</th>\n",
       "      <td>Diary of a Wimpy Kid: The Long Haul</td>\n",
       "      <td>Jeff Kinney</td>\n",
       "      <td>4.8</td>\n",
       "      <td>6540</td>\n",
       "      <td>22</td>\n",
       "      <td>2014</td>\n",
       "      <td>Fiction</td>\n",
       "    </tr>\n",
       "    <tr>\n",
       "      <th>80</th>\n",
       "      <td>Dog Days (Diary of a Wimpy Kid, Book 4) (Volum...</td>\n",
       "      <td>Jeff Kinney</td>\n",
       "      <td>4.8</td>\n",
       "      <td>3181</td>\n",
       "      <td>12</td>\n",
       "      <td>2009</td>\n",
       "      <td>Fiction</td>\n",
       "    </tr>\n",
       "    <tr>\n",
       "      <th>88</th>\n",
       "      <td>Double Down (Diary of a Wimpy Kid #11)</td>\n",
       "      <td>Jeff Kinney</td>\n",
       "      <td>4.8</td>\n",
       "      <td>5118</td>\n",
       "      <td>20</td>\n",
       "      <td>2016</td>\n",
       "      <td>Fiction</td>\n",
       "    </tr>\n",
       "    <tr>\n",
       "      <th>253</th>\n",
       "      <td>Old School (Diary of a Wimpy Kid #10)</td>\n",
       "      <td>Jeff Kinney</td>\n",
       "      <td>4.8</td>\n",
       "      <td>6169</td>\n",
       "      <td>7</td>\n",
       "      <td>2015</td>\n",
       "      <td>Fiction</td>\n",
       "    </tr>\n",
       "    <tr>\n",
       "      <th>381</th>\n",
       "      <td>The Getaway</td>\n",
       "      <td>Jeff Kinney</td>\n",
       "      <td>4.8</td>\n",
       "      <td>5836</td>\n",
       "      <td>0</td>\n",
       "      <td>2017</td>\n",
       "      <td>Fiction</td>\n",
       "    </tr>\n",
       "    <tr>\n",
       "      <th>435</th>\n",
       "      <td>The Meltdown (Diary of a Wimpy Kid Book 13)</td>\n",
       "      <td>Jeff Kinney</td>\n",
       "      <td>4.8</td>\n",
       "      <td>5898</td>\n",
       "      <td>8</td>\n",
       "      <td>2018</td>\n",
       "      <td>Fiction</td>\n",
       "    </tr>\n",
       "    <tr>\n",
       "      <th>468</th>\n",
       "      <td>The Third Wheel (Diary of a Wimpy Kid, Book 7)</td>\n",
       "      <td>Jeff Kinney</td>\n",
       "      <td>4.7</td>\n",
       "      <td>6377</td>\n",
       "      <td>7</td>\n",
       "      <td>2012</td>\n",
       "      <td>Fiction</td>\n",
       "    </tr>\n",
       "    <tr>\n",
       "      <th>474</th>\n",
       "      <td>The Ugly Truth (Diary of a Wimpy Kid, Book 5)</td>\n",
       "      <td>Jeff Kinney</td>\n",
       "      <td>4.8</td>\n",
       "      <td>3796</td>\n",
       "      <td>12</td>\n",
       "      <td>2010</td>\n",
       "      <td>Fiction</td>\n",
       "    </tr>\n",
       "    <tr>\n",
       "      <th>545</th>\n",
       "      <td>Wrecking Ball (Diary of a Wimpy Kid Book 14)</td>\n",
       "      <td>Jeff Kinney</td>\n",
       "      <td>4.9</td>\n",
       "      <td>9413</td>\n",
       "      <td>8</td>\n",
       "      <td>2019</td>\n",
       "      <td>Fiction</td>\n",
       "    </tr>\n",
       "  </tbody>\n",
       "</table>\n",
       "</div>"
      ],
      "text/plain": [
       "                                                  Name       Author  \\\n",
       "42          Cabin Fever (Diary of a Wimpy Kid, Book 6)  Jeff Kinney   \n",
       "71             Diary of a Wimpy Kid: Hard Luck, Book 8  Jeff Kinney   \n",
       "72       Diary of a Wimpy Kid: The Last Straw (Book 3)  Jeff Kinney   \n",
       "73                 Diary of a Wimpy Kid: The Long Haul  Jeff Kinney   \n",
       "80   Dog Days (Diary of a Wimpy Kid, Book 4) (Volum...  Jeff Kinney   \n",
       "88              Double Down (Diary of a Wimpy Kid #11)  Jeff Kinney   \n",
       "253              Old School (Diary of a Wimpy Kid #10)  Jeff Kinney   \n",
       "381                                        The Getaway  Jeff Kinney   \n",
       "435        The Meltdown (Diary of a Wimpy Kid Book 13)  Jeff Kinney   \n",
       "468     The Third Wheel (Diary of a Wimpy Kid, Book 7)  Jeff Kinney   \n",
       "474      The Ugly Truth (Diary of a Wimpy Kid, Book 5)  Jeff Kinney   \n",
       "545       Wrecking Ball (Diary of a Wimpy Kid Book 14)  Jeff Kinney   \n",
       "\n",
       "     User Rating  Reviews  Price  Year    Genre  \n",
       "42           4.8     4505      0  2011  Fiction  \n",
       "71           4.8     6812      0  2013  Fiction  \n",
       "72           4.8     3837     15  2009  Fiction  \n",
       "73           4.8     6540     22  2014  Fiction  \n",
       "80           4.8     3181     12  2009  Fiction  \n",
       "88           4.8     5118     20  2016  Fiction  \n",
       "253          4.8     6169      7  2015  Fiction  \n",
       "381          4.8     5836      0  2017  Fiction  \n",
       "435          4.8     5898      8  2018  Fiction  \n",
       "468          4.7     6377      7  2012  Fiction  \n",
       "474          4.8     3796     12  2010  Fiction  \n",
       "545          4.9     9413      8  2019  Fiction  "
      ]
     },
     "execution_count": 131,
     "metadata": {},
     "output_type": "execute_result"
    }
   ],
   "source": [
    "df.loc[df['Author']=='Jeff Kinney']"
   ]
  },
  {
   "cell_type": "code",
   "execution_count": 186,
   "metadata": {},
   "outputs": [
    {
     "name": "stdout",
     "output_type": "stream",
     "text": [
      "Jeff Kinney\n",
      "Gary Chapman\n",
      "Rick Riordan\n",
      "Suzanne Collins\n",
      "American Psychological Association\n",
      "Dr. Seuss\n",
      "Gallup\n",
      "Rob Elliott\n",
      "Stephen R. Covey\n",
      "Stephenie Meyer\n"
     ]
    }
   ],
   "source": [
    "for author in list_of_top_ten_authors:\n",
    "    print(author)"
   ]
  },
  {
   "cell_type": "markdown",
   "metadata": {},
   "source": [
    "**Observations**\n",
    "\n",
    "- 75% of authors only published twice during the time period\n",
    "- The Top 10 most frequent authors are: \n",
    "  - Jeff Kinney\n",
    "  - Gary Chapman\n",
    "  - Rick Riordan\n",
    "  - Suzanne Collins\n",
    "  - American Psychological Association\n",
    "  - Dr. Seuss\n",
    "  - Gallup\n",
    "  - Rob Elliott\n",
    "  - Stephen R. Covey\n",
    "  - Stephenie Meyer"
   ]
  },
  {
   "cell_type": "markdown",
   "metadata": {},
   "source": [
    "### Book Title\n",
    "\n",
    "Let's investigate the most frequent book titles between 2009-2019. "
   ]
  },
  {
   "cell_type": "code",
   "execution_count": 189,
   "metadata": {},
   "outputs": [
    {
     "name": "stdout",
     "output_type": "stream",
     "text": [
      "Publication Manual of the American Psychological Association, 6th Edition       10\n",
      "StrengthsFinder 2.0                                                              9\n",
      "Oh, the Places You'll Go!                                                        8\n",
      "The Very Hungry Caterpillar                                                      7\n",
      "The 7 Habits of Highly Effective People: Powerful Lessons in Personal Change     7\n",
      "                                                                                ..\n",
      "Humans of New York : Stories                                                     1\n",
      "Howard Stern Comes Again                                                         1\n",
      "Homebody: A Guide to Creating Spaces You Never Want to Leave                     1\n",
      "Have a Little Faith: A True Story                                                1\n",
      "Night (Night)                                                                    1\n",
      "Name: Name, Length: 351, dtype: int64\n"
     ]
    }
   ],
   "source": [
    "book_titles = df[\"Name\"].value_counts()\n",
    "\n",
    "print(book_titles)"
   ]
  },
  {
   "cell_type": "markdown",
   "metadata": {},
   "source": [
    "#### Summary Statistics"
   ]
  },
  {
   "cell_type": "code",
   "execution_count": 190,
   "metadata": {},
   "outputs": [
    {
     "data": {
      "text/plain": [
       "count    351.000000\n",
       "mean       1.566952\n",
       "std        1.271868\n",
       "min        1.000000\n",
       "25%        1.000000\n",
       "50%        1.000000\n",
       "75%        2.000000\n",
       "max       10.000000\n",
       "Name: Name, dtype: float64"
      ]
     },
     "execution_count": 190,
     "metadata": {},
     "output_type": "execute_result"
    }
   ],
   "source": [
    "book_titles.describe()"
   ]
  },
  {
   "cell_type": "markdown",
   "metadata": {},
   "source": [
    "#### Box plot"
   ]
  },
  {
   "cell_type": "code",
   "execution_count": 191,
   "metadata": {},
   "outputs": [
    {
     "data": {
      "image/png": "[encoded data removed]",
      "text/plain": [
       "<Figure size 640x480 with 1 Axes>"
      ]
     },
     "metadata": {},
     "output_type": "display_data"
    }
   ],
   "source": [
    "plt.boxplot(book_titles)\n",
    "plt.title('Publishing Frequency of Book Titles')\n",
    "plt.xlabel('Book')\n",
    "plt.ylabel('Number of Published Entries')\n",
    "\n",
    "plt.show()"
   ]
  },
  {
   "cell_type": "markdown",
   "metadata": {},
   "source": [
    "**Observations**\n",
    "\n",
    "Similar to the frequency of author names, 75% of book titles appear 2 or fewer times. Meaning, that 25% of book titles appear 3 or more times during the time period of 2009-2019. "
   ]
  },
  {
   "cell_type": "markdown",
   "metadata": {},
   "source": [
    "### Most Frequent Book Titles\n",
    "\n",
    "Based on our previous observation, we will define 'most frequent' as any book title that appears 3 or more times during the time period of 2009-2019."
   ]
  },
  {
   "cell_type": "code",
   "execution_count": 198,
   "metadata": {},
   "outputs": [
    {
     "name": "stdout",
     "output_type": "stream",
     "text": [
      "41 book titles appear 3 or more times\n",
      "Publication Manual of the American Psychological Association, 6th Edition                            10\n",
      "StrengthsFinder 2.0                                                                                   9\n",
      "Oh, the Places You'll Go!                                                                             8\n",
      "The Very Hungry Caterpillar                                                                           7\n",
      "The 7 Habits of Highly Effective People: Powerful Lessons in Personal Change                          7\n",
      "The Four Agreements: A Practical Guide to Personal Freedom (A Toltec Wisdom Book)                     6\n",
      "Jesus Calling: Enjoying Peace in His Presence (with Scripture References)                             6\n",
      "The Official SAT Study Guide                                                                          5\n",
      "To Kill a Mockingbird                                                                                 5\n",
      "The 5 Love Languages: The Secret to Love That Lasts                                                   5\n",
      "The 5 Love Languages: The Secret to Love that Lasts                                                   5\n",
      "Laugh-Out-Loud Jokes for Kids                                                                         5\n",
      "How to Win Friends & Influence People                                                                 5\n",
      "Unbroken: A World War II Story of Survival, Resilience, and Redemption                                5\n",
      "The Five Dysfunctions of a Team: A Leadership Fable                                                   5\n",
      "Giraffes Can't Dance                                                                                  5\n",
      "Wonder                                                                                                5\n",
      "First 100 Words                                                                                       5\n",
      "The Fault in Our Stars                                                                                4\n",
      "Dear Zoo: A Lift-the-Flap Book                                                                        4\n",
      "The Wonderful Things You Will Be                                                                      4\n",
      "The Life-Changing Magic of Tidying Up: The Japanese Art of Decluttering and Organizing                4\n",
      "Good to Great: Why Some Companies Make the Leap and Others Don't                                      4\n",
      "Thug Kitchen: The Official Cookbook: Eat Like You Give a F*ck (Thug Kitchen Cookbooks)                4\n",
      "The Help                                                                                              4\n",
      "You Are a Badass: How to Stop Doubting Your Greatness and Start Living an Awesome Life                4\n",
      "Knock-Knock Jokes for Kids                                                                            3\n",
      "Catching Fire (The Hunger Games)                                                                      3\n",
      "Game of Thrones Boxed Set: A Game of Thrones/A Clash of Kings/A Storm of Swords/A Feast for Crows     3\n",
      "Gone Girl                                                                                             3\n",
      "The Day the Crayons Quit                                                                              3\n",
      "Goodnight Moon                                                                                        3\n",
      "The Immortal Life of Henrietta Lacks                                                                  3\n",
      "The Subtle Art of Not Giving a F*ck: A Counterintuitive Approach to Living a Good Life                3\n",
      "Player's Handbook (Dungeons & Dragons)                                                                3\n",
      "Milk and Honey                                                                                        3\n",
      "The Whole30: The 30-Day Guide to Total Health and Food Freedom                                        3\n",
      "Mindset: The New Psychology of Success                                                                3\n",
      "Crazy Love: Overwhelmed by a Relentless God                                                           3\n",
      "Mockingjay (The Hunger Games)                                                                         3\n",
      "The Great Gatsby                                                                                      3\n",
      "Name: Name, dtype: int64\n"
     ]
    }
   ],
   "source": [
    "mask_book_tiles = book_titles > 2\n",
    "books_most_frequent = book_titles[mask_book_tiles]\n",
    "\n",
    "print(len(books_most_frequent), 'book titles appear 3 or more times')\n",
    "print(books_most_frequent)"
   ]
  },
  {
   "cell_type": "code",
   "execution_count": 201,
   "metadata": {},
   "outputs": [
    {
     "data": {
      "image/png": "[encoded data removed]",
      "text/plain": [
       "<Figure size 640x480 with 1 Axes>"
      ]
     },
     "metadata": {},
     "output_type": "display_data"
    }
   ],
   "source": [
    "plt.figure(figsize=(8,6), dpi=80)\n",
    "sns.histplot(data=books_most_frequent, bins='auto', binwidth=1)\n",
    "\n",
    "plt.title('Most Frequent Book Titles')\n",
    "plt.xlabel('Number of Times Published')\n",
    "plt.ylabel('Number of Book Titles')\n",
    "\n",
    "plt.show()"
   ]
  },
  {
   "cell_type": "markdown",
   "metadata": {},
   "source": [
    "### Top 10 Book Titles"
   ]
  },
  {
   "cell_type": "code",
   "execution_count": 203,
   "metadata": {},
   "outputs": [
    {
     "name": "stdout",
     "output_type": "stream",
     "text": [
      "Publication Manual of the American Psychological Association, 6th Edition            10\n",
      "StrengthsFinder 2.0                                                                   9\n",
      "Oh, the Places You'll Go!                                                             8\n",
      "The Very Hungry Caterpillar                                                           7\n",
      "The 7 Habits of Highly Effective People: Powerful Lessons in Personal Change          7\n",
      "The Four Agreements: A Practical Guide to Personal Freedom (A Toltec Wisdom Book)     6\n",
      "Jesus Calling: Enjoying Peace in His Presence (with Scripture References)             6\n",
      "The Official SAT Study Guide                                                          5\n",
      "To Kill a Mockingbird                                                                 5\n",
      "The 5 Love Languages: The Secret to Love That Lasts                                   5\n",
      "Name: Name, dtype: int64\n"
     ]
    }
   ],
   "source": [
    "top_ten_books = books_most_frequent.head(10)\n",
    "print(top_ten_books)"
   ]
  },
  {
   "cell_type": "markdown",
   "metadata": {},
   "source": [
    "##### Bar plot"
   ]
  },
  {
   "cell_type": "code",
   "execution_count": 277,
   "metadata": {},
   "outputs": [
    {
     "data": {
      "image/png": "[encoded data removed]",
      "text/plain": [
       "<Figure size 1000x800 with 1 Axes>"
      ]
     },
     "metadata": {},
     "output_type": "display_data"
    }
   ],
   "source": [
    "# convert series to data frame\n",
    "top_ten_books_df = pd.DataFrame({'Name': top_ten_books.index, 'Count': top_ten_books.values})\n",
    "\n",
    "# create bar plot of data frame\n",
    "plt.figure(figsize=(10,8))\n",
    "sns.barplot(data=top_ten_books_df, x='Name', y='Count')\n",
    "plt.title('Top 10 Books')\n",
    "plt.xlabel('Book Title')\n",
    "plt.xticks(rotation=90)\n",
    "plt.ylabel('Count')\n",
    "\n",
    "plt.show()"
   ]
  },
  {
   "cell_type": "code",
   "execution_count": 204,
   "metadata": {},
   "outputs": [
    {
     "data": {
      "text/html": [
       "<div>\n",
       "<style scoped>\n",
       "    .dataframe tbody tr th:only-of-type {\n",
       "        vertical-align: middle;\n",
       "    }\n",
       "\n",
       "    .dataframe tbody tr th {\n",
       "        vertical-align: top;\n",
       "    }\n",
       "\n",
       "    .dataframe thead th {\n",
       "        text-align: right;\n",
       "    }\n",
       "</style>\n",
       "<table border=\"1\" class=\"dataframe\">\n",
       "  <thead>\n",
       "    <tr style=\"text-align: right;\">\n",
       "      <th></th>\n",
       "      <th>Name</th>\n",
       "      <th>Author</th>\n",
       "      <th>User Rating</th>\n",
       "      <th>Reviews</th>\n",
       "      <th>Price</th>\n",
       "      <th>Year</th>\n",
       "      <th>Genre</th>\n",
       "    </tr>\n",
       "  </thead>\n",
       "  <tbody>\n",
       "    <tr>\n",
       "      <th>187</th>\n",
       "      <td>Jesus Calling: Enjoying Peace in His Presence ...</td>\n",
       "      <td>Sarah Young</td>\n",
       "      <td>4.9</td>\n",
       "      <td>19576</td>\n",
       "      <td>8</td>\n",
       "      <td>2011</td>\n",
       "      <td>Non Fiction</td>\n",
       "    </tr>\n",
       "    <tr>\n",
       "      <th>188</th>\n",
       "      <td>Jesus Calling: Enjoying Peace in His Presence ...</td>\n",
       "      <td>Sarah Young</td>\n",
       "      <td>4.9</td>\n",
       "      <td>19576</td>\n",
       "      <td>8</td>\n",
       "      <td>2012</td>\n",
       "      <td>Non Fiction</td>\n",
       "    </tr>\n",
       "    <tr>\n",
       "      <th>189</th>\n",
       "      <td>Jesus Calling: Enjoying Peace in His Presence ...</td>\n",
       "      <td>Sarah Young</td>\n",
       "      <td>4.9</td>\n",
       "      <td>19576</td>\n",
       "      <td>8</td>\n",
       "      <td>2013</td>\n",
       "      <td>Non Fiction</td>\n",
       "    </tr>\n",
       "    <tr>\n",
       "      <th>190</th>\n",
       "      <td>Jesus Calling: Enjoying Peace in His Presence ...</td>\n",
       "      <td>Sarah Young</td>\n",
       "      <td>4.9</td>\n",
       "      <td>19576</td>\n",
       "      <td>8</td>\n",
       "      <td>2014</td>\n",
       "      <td>Non Fiction</td>\n",
       "    </tr>\n",
       "    <tr>\n",
       "      <th>191</th>\n",
       "      <td>Jesus Calling: Enjoying Peace in His Presence ...</td>\n",
       "      <td>Sarah Young</td>\n",
       "      <td>4.9</td>\n",
       "      <td>19576</td>\n",
       "      <td>8</td>\n",
       "      <td>2015</td>\n",
       "      <td>Non Fiction</td>\n",
       "    </tr>\n",
       "    <tr>\n",
       "      <th>...</th>\n",
       "      <td>...</td>\n",
       "      <td>...</td>\n",
       "      <td>...</td>\n",
       "      <td>...</td>\n",
       "      <td>...</td>\n",
       "      <td>...</td>\n",
       "      <td>...</td>\n",
       "    </tr>\n",
       "    <tr>\n",
       "      <th>505</th>\n",
       "      <td>To Kill a Mockingbird</td>\n",
       "      <td>Harper Lee</td>\n",
       "      <td>4.8</td>\n",
       "      <td>26234</td>\n",
       "      <td>0</td>\n",
       "      <td>2013</td>\n",
       "      <td>Fiction</td>\n",
       "    </tr>\n",
       "    <tr>\n",
       "      <th>506</th>\n",
       "      <td>To Kill a Mockingbird</td>\n",
       "      <td>Harper Lee</td>\n",
       "      <td>4.8</td>\n",
       "      <td>26234</td>\n",
       "      <td>0</td>\n",
       "      <td>2014</td>\n",
       "      <td>Fiction</td>\n",
       "    </tr>\n",
       "    <tr>\n",
       "      <th>507</th>\n",
       "      <td>To Kill a Mockingbird</td>\n",
       "      <td>Harper Lee</td>\n",
       "      <td>4.8</td>\n",
       "      <td>26234</td>\n",
       "      <td>0</td>\n",
       "      <td>2015</td>\n",
       "      <td>Fiction</td>\n",
       "    </tr>\n",
       "    <tr>\n",
       "      <th>508</th>\n",
       "      <td>To Kill a Mockingbird</td>\n",
       "      <td>Harper Lee</td>\n",
       "      <td>4.8</td>\n",
       "      <td>26234</td>\n",
       "      <td>0</td>\n",
       "      <td>2016</td>\n",
       "      <td>Fiction</td>\n",
       "    </tr>\n",
       "    <tr>\n",
       "      <th>509</th>\n",
       "      <td>To Kill a Mockingbird</td>\n",
       "      <td>Harper Lee</td>\n",
       "      <td>4.8</td>\n",
       "      <td>26234</td>\n",
       "      <td>7</td>\n",
       "      <td>2019</td>\n",
       "      <td>Fiction</td>\n",
       "    </tr>\n",
       "  </tbody>\n",
       "</table>\n",
       "<p>68 rows × 7 columns</p>\n",
       "</div>"
      ],
      "text/plain": [
       "                                                  Name       Author  \\\n",
       "187  Jesus Calling: Enjoying Peace in His Presence ...  Sarah Young   \n",
       "188  Jesus Calling: Enjoying Peace in His Presence ...  Sarah Young   \n",
       "189  Jesus Calling: Enjoying Peace in His Presence ...  Sarah Young   \n",
       "190  Jesus Calling: Enjoying Peace in His Presence ...  Sarah Young   \n",
       "191  Jesus Calling: Enjoying Peace in His Presence ...  Sarah Young   \n",
       "..                                                 ...          ...   \n",
       "505                              To Kill a Mockingbird   Harper Lee   \n",
       "506                              To Kill a Mockingbird   Harper Lee   \n",
       "507                              To Kill a Mockingbird   Harper Lee   \n",
       "508                              To Kill a Mockingbird   Harper Lee   \n",
       "509                              To Kill a Mockingbird   Harper Lee   \n",
       "\n",
       "     User Rating  Reviews  Price  Year        Genre  \n",
       "187          4.9    19576      8  2011  Non Fiction  \n",
       "188          4.9    19576      8  2012  Non Fiction  \n",
       "189          4.9    19576      8  2013  Non Fiction  \n",
       "190          4.9    19576      8  2014  Non Fiction  \n",
       "191          4.9    19576      8  2015  Non Fiction  \n",
       "..           ...      ...    ...   ...          ...  \n",
       "505          4.8    26234      0  2013      Fiction  \n",
       "506          4.8    26234      0  2014      Fiction  \n",
       "507          4.8    26234      0  2015      Fiction  \n",
       "508          4.8    26234      0  2016      Fiction  \n",
       "509          4.8    26234      7  2019      Fiction  \n",
       "\n",
       "[68 rows x 7 columns]"
      ]
     },
     "execution_count": 204,
     "metadata": {},
     "output_type": "execute_result"
    }
   ],
   "source": [
    "list_of_top_ten_books = top_ten_books.index.tolist()\n",
    "\n",
    "df_top_10_books = df[df['Name'].isin(list_of_top_ten_books)]\n",
    "\n",
    "df_top_10_books"
   ]
  },
  {
   "cell_type": "markdown",
   "metadata": {},
   "source": [
    "#### Top Book: Publication Manual of the American Psychological Association, 6th Edition"
   ]
  },
  {
   "cell_type": "code",
   "execution_count": 206,
   "metadata": {},
   "outputs": [
    {
     "data": {
      "text/html": [
       "<div>\n",
       "<style scoped>\n",
       "    .dataframe tbody tr th:only-of-type {\n",
       "        vertical-align: middle;\n",
       "    }\n",
       "\n",
       "    .dataframe tbody tr th {\n",
       "        vertical-align: top;\n",
       "    }\n",
       "\n",
       "    .dataframe thead th {\n",
       "        text-align: right;\n",
       "    }\n",
       "</style>\n",
       "<table border=\"1\" class=\"dataframe\">\n",
       "  <thead>\n",
       "    <tr style=\"text-align: right;\">\n",
       "      <th></th>\n",
       "      <th>Name</th>\n",
       "      <th>Author</th>\n",
       "      <th>User Rating</th>\n",
       "      <th>Reviews</th>\n",
       "      <th>Price</th>\n",
       "      <th>Year</th>\n",
       "      <th>Genre</th>\n",
       "    </tr>\n",
       "  </thead>\n",
       "  <tbody>\n",
       "    <tr>\n",
       "      <th>271</th>\n",
       "      <td>Publication Manual of the American Psychologic...</td>\n",
       "      <td>American Psychological Association</td>\n",
       "      <td>4.5</td>\n",
       "      <td>8580</td>\n",
       "      <td>46</td>\n",
       "      <td>2009</td>\n",
       "      <td>Non Fiction</td>\n",
       "    </tr>\n",
       "    <tr>\n",
       "      <th>272</th>\n",
       "      <td>Publication Manual of the American Psychologic...</td>\n",
       "      <td>American Psychological Association</td>\n",
       "      <td>4.5</td>\n",
       "      <td>8580</td>\n",
       "      <td>46</td>\n",
       "      <td>2010</td>\n",
       "      <td>Non Fiction</td>\n",
       "    </tr>\n",
       "    <tr>\n",
       "      <th>273</th>\n",
       "      <td>Publication Manual of the American Psychologic...</td>\n",
       "      <td>American Psychological Association</td>\n",
       "      <td>4.5</td>\n",
       "      <td>8580</td>\n",
       "      <td>46</td>\n",
       "      <td>2011</td>\n",
       "      <td>Non Fiction</td>\n",
       "    </tr>\n",
       "    <tr>\n",
       "      <th>274</th>\n",
       "      <td>Publication Manual of the American Psychologic...</td>\n",
       "      <td>American Psychological Association</td>\n",
       "      <td>4.5</td>\n",
       "      <td>8580</td>\n",
       "      <td>46</td>\n",
       "      <td>2012</td>\n",
       "      <td>Non Fiction</td>\n",
       "    </tr>\n",
       "    <tr>\n",
       "      <th>275</th>\n",
       "      <td>Publication Manual of the American Psychologic...</td>\n",
       "      <td>American Psychological Association</td>\n",
       "      <td>4.5</td>\n",
       "      <td>8580</td>\n",
       "      <td>46</td>\n",
       "      <td>2013</td>\n",
       "      <td>Non Fiction</td>\n",
       "    </tr>\n",
       "    <tr>\n",
       "      <th>276</th>\n",
       "      <td>Publication Manual of the American Psychologic...</td>\n",
       "      <td>American Psychological Association</td>\n",
       "      <td>4.5</td>\n",
       "      <td>8580</td>\n",
       "      <td>46</td>\n",
       "      <td>2014</td>\n",
       "      <td>Non Fiction</td>\n",
       "    </tr>\n",
       "    <tr>\n",
       "      <th>277</th>\n",
       "      <td>Publication Manual of the American Psychologic...</td>\n",
       "      <td>American Psychological Association</td>\n",
       "      <td>4.5</td>\n",
       "      <td>8580</td>\n",
       "      <td>46</td>\n",
       "      <td>2015</td>\n",
       "      <td>Non Fiction</td>\n",
       "    </tr>\n",
       "    <tr>\n",
       "      <th>278</th>\n",
       "      <td>Publication Manual of the American Psychologic...</td>\n",
       "      <td>American Psychological Association</td>\n",
       "      <td>4.5</td>\n",
       "      <td>8580</td>\n",
       "      <td>46</td>\n",
       "      <td>2016</td>\n",
       "      <td>Non Fiction</td>\n",
       "    </tr>\n",
       "    <tr>\n",
       "      <th>279</th>\n",
       "      <td>Publication Manual of the American Psychologic...</td>\n",
       "      <td>American Psychological Association</td>\n",
       "      <td>4.5</td>\n",
       "      <td>8580</td>\n",
       "      <td>46</td>\n",
       "      <td>2017</td>\n",
       "      <td>Non Fiction</td>\n",
       "    </tr>\n",
       "    <tr>\n",
       "      <th>280</th>\n",
       "      <td>Publication Manual of the American Psychologic...</td>\n",
       "      <td>American Psychological Association</td>\n",
       "      <td>4.5</td>\n",
       "      <td>8580</td>\n",
       "      <td>46</td>\n",
       "      <td>2018</td>\n",
       "      <td>Non Fiction</td>\n",
       "    </tr>\n",
       "  </tbody>\n",
       "</table>\n",
       "</div>"
      ],
      "text/plain": [
       "                                                  Name  \\\n",
       "271  Publication Manual of the American Psychologic...   \n",
       "272  Publication Manual of the American Psychologic...   \n",
       "273  Publication Manual of the American Psychologic...   \n",
       "274  Publication Manual of the American Psychologic...   \n",
       "275  Publication Manual of the American Psychologic...   \n",
       "276  Publication Manual of the American Psychologic...   \n",
       "277  Publication Manual of the American Psychologic...   \n",
       "278  Publication Manual of the American Psychologic...   \n",
       "279  Publication Manual of the American Psychologic...   \n",
       "280  Publication Manual of the American Psychologic...   \n",
       "\n",
       "                                 Author  User Rating  Reviews  Price  Year  \\\n",
       "271  American Psychological Association          4.5     8580     46  2009   \n",
       "272  American Psychological Association          4.5     8580     46  2010   \n",
       "273  American Psychological Association          4.5     8580     46  2011   \n",
       "274  American Psychological Association          4.5     8580     46  2012   \n",
       "275  American Psychological Association          4.5     8580     46  2013   \n",
       "276  American Psychological Association          4.5     8580     46  2014   \n",
       "277  American Psychological Association          4.5     8580     46  2015   \n",
       "278  American Psychological Association          4.5     8580     46  2016   \n",
       "279  American Psychological Association          4.5     8580     46  2017   \n",
       "280  American Psychological Association          4.5     8580     46  2018   \n",
       "\n",
       "           Genre  \n",
       "271  Non Fiction  \n",
       "272  Non Fiction  \n",
       "273  Non Fiction  \n",
       "274  Non Fiction  \n",
       "275  Non Fiction  \n",
       "276  Non Fiction  \n",
       "277  Non Fiction  \n",
       "278  Non Fiction  \n",
       "279  Non Fiction  \n",
       "280  Non Fiction  "
      ]
     },
     "execution_count": 206,
     "metadata": {},
     "output_type": "execute_result"
    }
   ],
   "source": [
    "df.loc[df['Name']=='Publication Manual of the American Psychological Association, 6th Edition']"
   ]
  },
  {
   "cell_type": "code",
   "execution_count": 207,
   "metadata": {},
   "outputs": [
    {
     "name": "stdout",
     "output_type": "stream",
     "text": [
      "Publication Manual of the American Psychological Association, 6th Edition\n",
      "StrengthsFinder 2.0\n",
      "Oh, the Places You'll Go!\n",
      "The Very Hungry Caterpillar\n",
      "The 7 Habits of Highly Effective People: Powerful Lessons in Personal Change\n",
      "The Four Agreements: A Practical Guide to Personal Freedom (A Toltec Wisdom Book)\n",
      "Jesus Calling: Enjoying Peace in His Presence (with Scripture References)\n",
      "The Official SAT Study Guide\n",
      "To Kill a Mockingbird\n",
      "The 5 Love Languages: The Secret to Love That Lasts\n"
     ]
    }
   ],
   "source": [
    "for book in list_of_top_ten_books:\n",
    "    print(book)"
   ]
  },
  {
   "cell_type": "markdown",
   "metadata": {},
   "source": [
    "**Observations**\n",
    "\n",
    "Top 10 most common book titles: \n",
    "\n",
    "- Publication Manual of the American Psychological Association, 6th - Edition\n",
    "- StrengthsFinder 2.0\n",
    "- Oh, the Places You'll Go!\n",
    "- The Very Hungry Caterpillar\n",
    "- The 7 Habits of Highly Effective People: Powerful Lessons in Personal - Change\n",
    "- The Four Agreements: A Practical Guide to Personal Freedom (A Toltec - Wisdom Book)\n",
    "- Jesus Calling: Enjoying Peace in His Presence (with Scripture - References)\n",
    "- The Official SAT Study Guide\n",
    "- To Kill a Mockingbird\n",
    "- The 5 Love Languages: The Secret to Love That Lasts"
   ]
  },
  {
   "cell_type": "markdown",
   "metadata": {},
   "source": [
    "### Analysis Conclusions\n",
    "\n",
    "After the analysis, it's time to reflect on what was observed in the data. Let's look at our investigative questions and the answers yielded by our analysis. \n",
    "\n",
    "#### Initial Questions\n",
    "\n",
    "Our analysis has yield answers to our intial questions from the Ask Phase: \n",
    "\n",
    "- What author(s) published the most between 2009-2019? \n",
    "  - Jeff Kinney is the most common author to appear with his series 'Diarty of a Wimpy Kid'\n",
    "  - The top 10 authors who appeared the most published at least 7 times during the 10-year period\n",
    "- What percentage of books were fiction vs. non-ficiton? \n",
    "  - Non-fiction: 56%\n",
    "    - A majority (73%) of expensive books are non-fiction; the higher the price a big is, the more likely it is to be non-fiction\n",
    "  - Fiction: 44%\n",
    "- What book appears the most between 2009-2019?\n",
    "  - Top book (appearing 10 times, every year): 'Publication Manual of the American Psychological Association, 6th Edition' publsihed by the American Pscyhological Association\n",
    "  - The top 10 books include:\n",
    "    - Publication Manual of the American Psychological Association, 6th Edition\n",
    "    - StrengthsFinder 2.0\n",
    "    - Oh, the Places You'll Go!\n",
    "    - The Very Hungry Caterpillar\n",
    "    - The 7 Habits of Highly Effective People: Powerful Lessons in Personal Change\n",
    "    - The Four Agreements: A Practical Guide to Personal Freedom (A Toltec Wisdom Book)\n",
    "    - Jesus Calling: Enjoying Peace in His Presence (with Scripture References)\n",
    "    - The Official SAT Study Guide\n",
    "    - To Kill a Mockingbird\n",
    "    - The 5 Love Languages: The Secret to Love That Lasts\n",
    "\n",
    "#### Other Observations\n",
    "\n",
    "- Most (75%) bestselling books are 16 USD or less with 50% of books priced between 7 USD and 16 USD\n",
    "- There's little or no correllation between User Rating, Price, and Reviews. \n",
    "- A slim majority (56%) of books are non-fiction\n",
    "- 73% of expensive books (greater tan 16 USD) are non-fiction\n",
    "- 75% of expensive books (greater than 16 USD) are priced between 17 USD and 30 USD\n",
    "- A slim majority (56%) of inexpensive books (less than 17 USD) are fiction\n",
    "- 75% of User Ratings are 4.5 or above with 50% between 4.5 and 4.8\n",
    "- 75% of authors only publsihed twice during the 10-year period"
   ]
  },
  {
   "cell_type": "markdown",
   "metadata": {},
   "source": [
    "## References\n",
    "\n",
    "- [Data Source: Kaggle](https://www.kaggle.com/datasets/sootersaalu/amazon-top-50-bestselling-books-2009-2019?datasetId=918976&sortBy=dateRun&tab=profile)\n",
    "- [Why Does The Amazon Book Market Share Dominate The Market?](https://justpublishingadvice.com/why-do-amazon-sell-more-ebooks-than-other-retailers/)"
   ]
  },
  {
   "cell_type": "markdown",
   "metadata": {},
   "source": [
    "## Contact\n",
    "\n",
    "- <a href=\"mailto:msg.for.anthony.p6ht3@simplelogin.com?subject=Nice Case Study Project&body=Hey Anthony, I saw your Amazon Bestseller Case Study. Let's talk!\">Email</a>\n",
    "- [LinkedIn](https://www.linkedin.com/in/anthonynanfito/)\n",
    "- [GitHub](https://www.github.com/ananfito)\n",
    "- [Portfolio](https://ananfito.github.io)"
   ]
  }
 ],
 "metadata": {
  "kernelspec": {
   "display_name": "Python 3",
   "language": "python",
   "name": "python3"
  },
  "language_info": {
   "codemirror_mode": {
    "name": "ipython",
    "version": 3
   },
   "file_extension": ".py",
   "mimetype": "text/x-python",
   "name": "python",
   "nbconvert_exporter": "python",
   "pygments_lexer": "ipython3",
   "version": "3.10.4"
  },
  "vscode": {
   "interpreter": {
    "hash": "aee8b7b246df8f9039afb4144a1f6fd8d2ca17a180786b69acc140d282b71a49"
   }
  }
 },
 "nbformat": 4,
 "nbformat_minor": 4
}
